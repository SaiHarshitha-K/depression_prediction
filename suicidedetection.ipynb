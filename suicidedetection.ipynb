{
  "cells": [
    {
      "cell_type": "code",
      "execution_count": null,
      "metadata": {
        "colab": {
          "base_uri": "https://localhost:8080/"
        },
        "id": "EZvc1PUqq2fS",
        "outputId": "a8c728b2-8dcc-4593-b415-f6daf2c8be89"
      },
      "outputs": [
        {
          "output_type": "stream",
          "name": "stdout",
          "text": [
            "Mounted at /content/drive\n"
          ]
        }
      ],
      "source": [
        "from google.colab import drive\n",
        "drive.mount('/content/drive')\n"
      ]
    },
    {
      "cell_type": "code",
      "execution_count": null,
      "metadata": {
        "id": "raN_7FrLoN1c"
      },
      "outputs": [],
      "source": [
        "import pandas as pd\n",
        "from sklearn.model_selection import train_test_split\n",
        "from pyspark.sql import SparkSession\n",
        "from pyspark.sql.functions import col, lower, regexp_replace, split, udf\n",
        "from pyspark.sql.types import IntegerType\n",
        "from pyspark.ml.feature import StopWordsRemover\n",
        "from pyspark.ml.feature import CountVectorizer\n",
        "from pyspark.ml.classification import NaiveBayes\n",
        "from pyspark.ml.feature import Tokenizer\n",
        "from pyspark.ml.classification import NaiveBayes\n",
        "from pyspark.ml import Pipeline\n",
        "from pyspark.sql import SparkSession\n",
        "from pyspark.ml.feature import CountVectorizerModel\n",
        "from pyspark.ml.classification import NaiveBayesModel\n",
        "from pyspark.ml.evaluation import MulticlassClassificationEvaluator\n",
        "from pyspark.sql.functions import when, col\n",
        "from pyspark.ml import PipelineModel\n",
        "\n",
        "\n"
      ]
    },
    {
      "cell_type": "code",
      "execution_count": null,
      "metadata": {
        "colab": {
          "base_uri": "https://localhost:8080/"
        },
        "id": "cZcTsxB_k-io",
        "outputId": "4dad239e-aabb-4872-a924-54098b3342fa"
      },
      "outputs": [
        {
          "name": "stdout",
          "output_type": "stream",
          "text": [
            "Requirement already satisfied: pyspark in /usr/local/lib/python3.11/dist-packages (3.5.5)\n",
            "Requirement already satisfied: py4j==0.10.9.7 in /usr/local/lib/python3.11/dist-packages (from pyspark) (0.10.9.7)\n"
          ]
        }
      ],
      "source": [
        "!pip install pyspark\n"
      ]
    },
    {
      "cell_type": "code",
      "execution_count": null,
      "metadata": {
        "colab": {
          "base_uri": "https://localhost:8080/",
          "height": 90
        },
        "id": "vm07JXi1lGXU",
        "outputId": "c7e4d697-59eb-4fb3-d6a6-ff00c4038b47"
      },
      "outputs": [
        {
          "data": {
            "text/html": [
              "\n",
              "     <input type=\"file\" id=\"files-21bf30f9-1612-41e4-9a29-f62c30f0aa20\" name=\"files[]\" multiple disabled\n",
              "        style=\"border:none\" />\n",
              "     <output id=\"result-21bf30f9-1612-41e4-9a29-f62c30f0aa20\">\n",
              "      Upload widget is only available when the cell has been executed in the\n",
              "      current browser session. Please rerun this cell to enable.\n",
              "      </output>\n",
              "      <script>// Copyright 2017 Google LLC\n",
              "//\n",
              "// Licensed under the Apache License, Version 2.0 (the \"License\");\n",
              "// you may not use this file except in compliance with the License.\n",
              "// You may obtain a copy of the License at\n",
              "//\n",
              "//      http://www.apache.org/licenses/LICENSE-2.0\n",
              "//\n",
              "// Unless required by applicable law or agreed to in writing, software\n",
              "// distributed under the License is distributed on an \"AS IS\" BASIS,\n",
              "// WITHOUT WARRANTIES OR CONDITIONS OF ANY KIND, either express or implied.\n",
              "// See the License for the specific language governing permissions and\n",
              "// limitations under the License.\n",
              "\n",
              "/**\n",
              " * @fileoverview Helpers for google.colab Python module.\n",
              " */\n",
              "(function(scope) {\n",
              "function span(text, styleAttributes = {}) {\n",
              "  const element = document.createElement('span');\n",
              "  element.textContent = text;\n",
              "  for (const key of Object.keys(styleAttributes)) {\n",
              "    element.style[key] = styleAttributes[key];\n",
              "  }\n",
              "  return element;\n",
              "}\n",
              "\n",
              "// Max number of bytes which will be uploaded at a time.\n",
              "const MAX_PAYLOAD_SIZE = 100 * 1024;\n",
              "\n",
              "function _uploadFiles(inputId, outputId) {\n",
              "  const steps = uploadFilesStep(inputId, outputId);\n",
              "  const outputElement = document.getElementById(outputId);\n",
              "  // Cache steps on the outputElement to make it available for the next call\n",
              "  // to uploadFilesContinue from Python.\n",
              "  outputElement.steps = steps;\n",
              "\n",
              "  return _uploadFilesContinue(outputId);\n",
              "}\n",
              "\n",
              "// This is roughly an async generator (not supported in the browser yet),\n",
              "// where there are multiple asynchronous steps and the Python side is going\n",
              "// to poll for completion of each step.\n",
              "// This uses a Promise to block the python side on completion of each step,\n",
              "// then passes the result of the previous step as the input to the next step.\n",
              "function _uploadFilesContinue(outputId) {\n",
              "  const outputElement = document.getElementById(outputId);\n",
              "  const steps = outputElement.steps;\n",
              "\n",
              "  const next = steps.next(outputElement.lastPromiseValue);\n",
              "  return Promise.resolve(next.value.promise).then((value) => {\n",
              "    // Cache the last promise value to make it available to the next\n",
              "    // step of the generator.\n",
              "    outputElement.lastPromiseValue = value;\n",
              "    return next.value.response;\n",
              "  });\n",
              "}\n",
              "\n",
              "/**\n",
              " * Generator function which is called between each async step of the upload\n",
              " * process.\n",
              " * @param {string} inputId Element ID of the input file picker element.\n",
              " * @param {string} outputId Element ID of the output display.\n",
              " * @return {!Iterable<!Object>} Iterable of next steps.\n",
              " */\n",
              "function* uploadFilesStep(inputId, outputId) {\n",
              "  const inputElement = document.getElementById(inputId);\n",
              "  inputElement.disabled = false;\n",
              "\n",
              "  const outputElement = document.getElementById(outputId);\n",
              "  outputElement.innerHTML = '';\n",
              "\n",
              "  const pickedPromise = new Promise((resolve) => {\n",
              "    inputElement.addEventListener('change', (e) => {\n",
              "      resolve(e.target.files);\n",
              "    });\n",
              "  });\n",
              "\n",
              "  const cancel = document.createElement('button');\n",
              "  inputElement.parentElement.appendChild(cancel);\n",
              "  cancel.textContent = 'Cancel upload';\n",
              "  const cancelPromise = new Promise((resolve) => {\n",
              "    cancel.onclick = () => {\n",
              "      resolve(null);\n",
              "    };\n",
              "  });\n",
              "\n",
              "  // Wait for the user to pick the files.\n",
              "  const files = yield {\n",
              "    promise: Promise.race([pickedPromise, cancelPromise]),\n",
              "    response: {\n",
              "      action: 'starting',\n",
              "    }\n",
              "  };\n",
              "\n",
              "  cancel.remove();\n",
              "\n",
              "  // Disable the input element since further picks are not allowed.\n",
              "  inputElement.disabled = true;\n",
              "\n",
              "  if (!files) {\n",
              "    return {\n",
              "      response: {\n",
              "        action: 'complete',\n",
              "      }\n",
              "    };\n",
              "  }\n",
              "\n",
              "  for (const file of files) {\n",
              "    const li = document.createElement('li');\n",
              "    li.append(span(file.name, {fontWeight: 'bold'}));\n",
              "    li.append(span(\n",
              "        `(${file.type || 'n/a'}) - ${file.size} bytes, ` +\n",
              "        `last modified: ${\n",
              "            file.lastModifiedDate ? file.lastModifiedDate.toLocaleDateString() :\n",
              "                                    'n/a'} - `));\n",
              "    const percent = span('0% done');\n",
              "    li.appendChild(percent);\n",
              "\n",
              "    outputElement.appendChild(li);\n",
              "\n",
              "    const fileDataPromise = new Promise((resolve) => {\n",
              "      const reader = new FileReader();\n",
              "      reader.onload = (e) => {\n",
              "        resolve(e.target.result);\n",
              "      };\n",
              "      reader.readAsArrayBuffer(file);\n",
              "    });\n",
              "    // Wait for the data to be ready.\n",
              "    let fileData = yield {\n",
              "      promise: fileDataPromise,\n",
              "      response: {\n",
              "        action: 'continue',\n",
              "      }\n",
              "    };\n",
              "\n",
              "    // Use a chunked sending to avoid message size limits. See b/62115660.\n",
              "    let position = 0;\n",
              "    do {\n",
              "      const length = Math.min(fileData.byteLength - position, MAX_PAYLOAD_SIZE);\n",
              "      const chunk = new Uint8Array(fileData, position, length);\n",
              "      position += length;\n",
              "\n",
              "      const base64 = btoa(String.fromCharCode.apply(null, chunk));\n",
              "      yield {\n",
              "        response: {\n",
              "          action: 'append',\n",
              "          file: file.name,\n",
              "          data: base64,\n",
              "        },\n",
              "      };\n",
              "\n",
              "      let percentDone = fileData.byteLength === 0 ?\n",
              "          100 :\n",
              "          Math.round((position / fileData.byteLength) * 100);\n",
              "      percent.textContent = `${percentDone}% done`;\n",
              "\n",
              "    } while (position < fileData.byteLength);\n",
              "  }\n",
              "\n",
              "  // All done.\n",
              "  yield {\n",
              "    response: {\n",
              "      action: 'complete',\n",
              "    }\n",
              "  };\n",
              "}\n",
              "\n",
              "scope.google = scope.google || {};\n",
              "scope.google.colab = scope.google.colab || {};\n",
              "scope.google.colab._files = {\n",
              "  _uploadFiles,\n",
              "  _uploadFilesContinue,\n",
              "};\n",
              "})(self);\n",
              "</script> "
            ],
            "text/plain": [
              "<IPython.core.display.HTML object>"
            ]
          },
          "metadata": {},
          "output_type": "display_data"
        },
        {
          "name": "stdout",
          "output_type": "stream",
          "text": [
            "Saving kaggle (2).json to kaggle (2).json\n"
          ]
        },
        {
          "data": {
            "text/plain": [
              "{'kaggle (2).json': b'{\"username\":\"saiharshithakomati\",\"key\":\"a6b19059ae067acc34430ea3d09b2e85\"}'}"
            ]
          },
          "execution_count": 4,
          "metadata": {},
          "output_type": "execute_result"
        }
      ],
      "source": [
        "from google.colab import files\n",
        "files.upload()  # Upload kaggle.json when prompted\n"
      ]
    },
    {
      "cell_type": "code",
      "execution_count": null,
      "metadata": {
        "id": "cE8fYiGolGZg"
      },
      "outputs": [],
      "source": [
        "import os\n",
        "\n",
        "# Rename the uploaded file to kaggle.json\n",
        "os.rename(\"kaggle (2).json\", \"kaggle.json\")\n"
      ]
    },
    {
      "cell_type": "code",
      "execution_count": null,
      "metadata": {
        "id": "lE1AunoUlGbk"
      },
      "outputs": [],
      "source": [
        "os.makedirs(\"/root/.kaggle\", exist_ok=True)\n",
        "!mv kaggle.json /root/.kaggle/\n",
        "!chmod 600 /root/.kaggle/kaggle.json"
      ]
    },
    {
      "cell_type": "code",
      "execution_count": null,
      "metadata": {
        "colab": {
          "base_uri": "https://localhost:8080/"
        },
        "id": "OvfZ7kyDlGew",
        "outputId": "4b410f90-2b9a-45d5-a3c2-5663d8392d2c"
      },
      "outputs": [
        {
          "name": "stdout",
          "output_type": "stream",
          "text": [
            "ref                                                         title                                                   size  lastUpdated                 downloadCount  voteCount  usabilityRating  \n",
            "----------------------------------------------------------  ------------------------------------------------  ----------  --------------------------  -------------  ---------  ---------------  \n",
            "atharvasoundankar/chocolate-sales                           Chocolate Sales Data 📊🍫                                14473  2025-03-19 03:51:40.270000          18736        314  1.0              \n",
            "adilshamim8/student-depression-dataset                      Student Depression Dataset                            467020  2025-03-13 03:12:30.423000           9699        139  1.0              \n",
            "atharvasoundankar/impact-of-ai-on-digital-media-2020-2025   🌍 Impact of AI on Digital Media (2020-2025)             5812  2025-04-03 09:12:25.070000           1075         26  1.0              \n",
            "ertugrulesol/online-retail-data                             Online Retail & E-Commerce Dataset                     26067  2025-03-20 08:54:53.623000           1028         24  1.0              \n",
            "amansingh0000000/ipl-dataset-2008-2022                      IPL DATASET 2008-2022                                1599070  2025-04-03 14:11:26.407000            673         24  0.9411765        \n",
            "meleknur/global-internet-usage-by-country-2000-2023         Global Internet Usage by Country (2000-2023)           17617  2025-03-25 15:34:00.883000           1684         27  1.0              \n",
            "ak0212/average-daily-screen-time-for-children               Average Daily Screen Time for Children                  1378  2025-03-24 03:52:51.137000           2800         44  1.0              \n",
            "abdulmalik1518/mobiles-dataset-2025                         Mobiles Dataset (2025)                                 20314  2025-02-18 06:50:24.370000          21907        343  1.0              \n",
            "khushikyad001/air-pollution-in-china-2015-2025              Air Pollution in China (2015-2025)                    453950  2025-03-31 06:21:35.103000            922         20  1.0              \n",
            "brsahan/extensive-used-car-price-for-predictive-modeling    Extensive Used Car Price for Predictive Modeling        3852  2025-04-03 12:39:18.130000            335         26  1.0              \n",
            "khushikyad001/finance-and-economics-dataset-2000-present    Finance & Economics Dataset (2000 - Present)          204142  2025-03-29 18:51:33.840000           1121         23  1.0              \n",
            "juice0lover/users-vs-bots-classification                    Users vs bots classification                          112490  2025-03-30 13:38:07.167000            740         25  1.0              \n",
            "atharvasoundankar/global-cybersecurity-threats-2015-2024    🌐 Global Cybersecurity Threats (2015-2024)             48178  2025-03-16 04:23:13.343000           3304         64  1.0              \n",
            "kaverappa/amazon-best-seller-softwares                      Amazon best seller softwares                           87193  2025-03-14 16:34:43.980000           1116         26  0.9411765        \n",
            "samayashar/stock-market-simulation-dataset                  Stock Market Simulation Dataset                        90192  2025-03-12 18:28:19.593000           1248         22  1.0              \n",
            "albertobircoci/historical-prices-of-major-natural-resource  Historical Prices of Major Natural Resource           266218  2025-04-02 04:54:54.640000            845         28  1.0              \n",
            "taimoor888/tesla-stock-price-data-2000-2025                 Tesla Stock Price Data (2000-2025)                     89869  2025-03-03 17:05:03.893000           1307         21  1.0              \n",
            "veselagencheva/gold-insights-dataset-20202023               Gold Insights Dataset (2020–2023)                       5748  2025-03-09 07:59:42.690000           1426         26  1.0              \n",
            "khushikyad001/fake-news-detection                           Fake News Detection                                   182101  2025-03-23 03:29:28.860000           1127         27  1.0              \n",
            "monicahjones/steps-tracker-dataset                          steps_tracker_dataset                                   9043  2025-03-07 08:36:03.750000           1759         24  1.0              \n"
          ]
        }
      ],
      "source": [
        "!kaggle datasets list\n"
      ]
    },
    {
      "cell_type": "code",
      "execution_count": null,
      "metadata": {
        "colab": {
          "base_uri": "https://localhost:8080/"
        },
        "id": "dFTsese6lSAT",
        "outputId": "8fa9b85e-faa8-461e-c5c1-5eea9ea39799"
      },
      "outputs": [
        {
          "name": "stdout",
          "output_type": "stream",
          "text": [
            "Dataset URL: https://www.kaggle.com/datasets/nikhileswarkomati/suicide-watch\n",
            "License(s): CC-BY-SA-4.0\n",
            "Archive:  suicide-watch.zip\n",
            "  inflating: Suicide_Detection.csv   \n"
          ]
        }
      ],
      "source": [
        "!kaggle datasets download -d nikhileswarkomati/suicide-watch\n",
        "!unzip suicide-watch.zip\n"
      ]
    },
    {
      "cell_type": "code",
      "execution_count": null,
      "metadata": {
        "colab": {
          "base_uri": "https://localhost:8080/",
          "height": 379
        },
        "id": "kAwbbwi_lSDx",
        "outputId": "53864b7f-d505-46d0-8c19-51d8f3e21c0d"
      },
      "outputs": [
        {
          "name": "stdout",
          "output_type": "stream",
          "text": [
            "<class 'pandas.core.frame.DataFrame'>\n",
            "RangeIndex: 232074 entries, 0 to 232073\n",
            "Data columns (total 3 columns):\n",
            " #   Column      Non-Null Count   Dtype \n",
            "---  ------      --------------   ----- \n",
            " 0   Unnamed: 0  232074 non-null  int64 \n",
            " 1   text        232074 non-null  object\n",
            " 2   class       232074 non-null  object\n",
            "dtypes: int64(1), object(2)\n",
            "memory usage: 5.3+ MB\n"
          ]
        },
        {
          "data": {
            "application/vnd.google.colaboratory.intrinsic+json": {
              "type": "dataframe",
              "variable_name": "df"
            },
            "text/html": [
              "\n",
              "  <div id=\"df-59c205b7-e1c4-4439-a5b0-4c2b291835fe\" class=\"colab-df-container\">\n",
              "    <div>\n",
              "<style scoped>\n",
              "    .dataframe tbody tr th:only-of-type {\n",
              "        vertical-align: middle;\n",
              "    }\n",
              "\n",
              "    .dataframe tbody tr th {\n",
              "        vertical-align: top;\n",
              "    }\n",
              "\n",
              "    .dataframe thead th {\n",
              "        text-align: right;\n",
              "    }\n",
              "</style>\n",
              "<table border=\"1\" class=\"dataframe\">\n",
              "  <thead>\n",
              "    <tr style=\"text-align: right;\">\n",
              "      <th></th>\n",
              "      <th>Unnamed: 0</th>\n",
              "      <th>text</th>\n",
              "      <th>class</th>\n",
              "    </tr>\n",
              "  </thead>\n",
              "  <tbody>\n",
              "    <tr>\n",
              "      <th>0</th>\n",
              "      <td>2</td>\n",
              "      <td>Ex Wife Threatening SuicideRecently I left my ...</td>\n",
              "      <td>suicide</td>\n",
              "    </tr>\n",
              "    <tr>\n",
              "      <th>1</th>\n",
              "      <td>3</td>\n",
              "      <td>Am I weird I don't get affected by compliments...</td>\n",
              "      <td>non-suicide</td>\n",
              "    </tr>\n",
              "    <tr>\n",
              "      <th>2</th>\n",
              "      <td>4</td>\n",
              "      <td>Finally 2020 is almost over... So I can never ...</td>\n",
              "      <td>non-suicide</td>\n",
              "    </tr>\n",
              "    <tr>\n",
              "      <th>3</th>\n",
              "      <td>8</td>\n",
              "      <td>i need helpjust help me im crying so hard</td>\n",
              "      <td>suicide</td>\n",
              "    </tr>\n",
              "    <tr>\n",
              "      <th>4</th>\n",
              "      <td>9</td>\n",
              "      <td>I’m so lostHello, my name is Adam (16) and I’v...</td>\n",
              "      <td>suicide</td>\n",
              "    </tr>\n",
              "  </tbody>\n",
              "</table>\n",
              "</div>\n",
              "    <div class=\"colab-df-buttons\">\n",
              "\n",
              "  <div class=\"colab-df-container\">\n",
              "    <button class=\"colab-df-convert\" onclick=\"convertToInteractive('df-59c205b7-e1c4-4439-a5b0-4c2b291835fe')\"\n",
              "            title=\"Convert this dataframe to an interactive table.\"\n",
              "            style=\"display:none;\">\n",
              "\n",
              "  <svg xmlns=\"http://www.w3.org/2000/svg\" height=\"24px\" viewBox=\"0 -960 960 960\">\n",
              "    <path d=\"M120-120v-720h720v720H120Zm60-500h600v-160H180v160Zm220 220h160v-160H400v160Zm0 220h160v-160H400v160ZM180-400h160v-160H180v160Zm440 0h160v-160H620v160ZM180-180h160v-160H180v160Zm440 0h160v-160H620v160Z\"/>\n",
              "  </svg>\n",
              "    </button>\n",
              "\n",
              "  <style>\n",
              "    .colab-df-container {\n",
              "      display:flex;\n",
              "      gap: 12px;\n",
              "    }\n",
              "\n",
              "    .colab-df-convert {\n",
              "      background-color: #E8F0FE;\n",
              "      border: none;\n",
              "      border-radius: 50%;\n",
              "      cursor: pointer;\n",
              "      display: none;\n",
              "      fill: #1967D2;\n",
              "      height: 32px;\n",
              "      padding: 0 0 0 0;\n",
              "      width: 32px;\n",
              "    }\n",
              "\n",
              "    .colab-df-convert:hover {\n",
              "      background-color: #E2EBFA;\n",
              "      box-shadow: 0px 1px 2px rgba(60, 64, 67, 0.3), 0px 1px 3px 1px rgba(60, 64, 67, 0.15);\n",
              "      fill: #174EA6;\n",
              "    }\n",
              "\n",
              "    .colab-df-buttons div {\n",
              "      margin-bottom: 4px;\n",
              "    }\n",
              "\n",
              "    [theme=dark] .colab-df-convert {\n",
              "      background-color: #3B4455;\n",
              "      fill: #D2E3FC;\n",
              "    }\n",
              "\n",
              "    [theme=dark] .colab-df-convert:hover {\n",
              "      background-color: #434B5C;\n",
              "      box-shadow: 0px 1px 3px 1px rgba(0, 0, 0, 0.15);\n",
              "      filter: drop-shadow(0px 1px 2px rgba(0, 0, 0, 0.3));\n",
              "      fill: #FFFFFF;\n",
              "    }\n",
              "  </style>\n",
              "\n",
              "    <script>\n",
              "      const buttonEl =\n",
              "        document.querySelector('#df-59c205b7-e1c4-4439-a5b0-4c2b291835fe button.colab-df-convert');\n",
              "      buttonEl.style.display =\n",
              "        google.colab.kernel.accessAllowed ? 'block' : 'none';\n",
              "\n",
              "      async function convertToInteractive(key) {\n",
              "        const element = document.querySelector('#df-59c205b7-e1c4-4439-a5b0-4c2b291835fe');\n",
              "        const dataTable =\n",
              "          await google.colab.kernel.invokeFunction('convertToInteractive',\n",
              "                                                    [key], {});\n",
              "        if (!dataTable) return;\n",
              "\n",
              "        const docLinkHtml = 'Like what you see? Visit the ' +\n",
              "          '<a target=\"_blank\" href=https://colab.research.google.com/notebooks/data_table.ipynb>data table notebook</a>'\n",
              "          + ' to learn more about interactive tables.';\n",
              "        element.innerHTML = '';\n",
              "        dataTable['output_type'] = 'display_data';\n",
              "        await google.colab.output.renderOutput(dataTable, element);\n",
              "        const docLink = document.createElement('div');\n",
              "        docLink.innerHTML = docLinkHtml;\n",
              "        element.appendChild(docLink);\n",
              "      }\n",
              "    </script>\n",
              "  </div>\n",
              "\n",
              "\n",
              "<div id=\"df-d977f2e5-9ef8-4f41-8dcc-e994653d8a88\">\n",
              "  <button class=\"colab-df-quickchart\" onclick=\"quickchart('df-d977f2e5-9ef8-4f41-8dcc-e994653d8a88')\"\n",
              "            title=\"Suggest charts\"\n",
              "            style=\"display:none;\">\n",
              "\n",
              "<svg xmlns=\"http://www.w3.org/2000/svg\" height=\"24px\"viewBox=\"0 0 24 24\"\n",
              "     width=\"24px\">\n",
              "    <g>\n",
              "        <path d=\"M19 3H5c-1.1 0-2 .9-2 2v14c0 1.1.9 2 2 2h14c1.1 0 2-.9 2-2V5c0-1.1-.9-2-2-2zM9 17H7v-7h2v7zm4 0h-2V7h2v10zm4 0h-2v-4h2v4z\"/>\n",
              "    </g>\n",
              "</svg>\n",
              "  </button>\n",
              "\n",
              "<style>\n",
              "  .colab-df-quickchart {\n",
              "      --bg-color: #E8F0FE;\n",
              "      --fill-color: #1967D2;\n",
              "      --hover-bg-color: #E2EBFA;\n",
              "      --hover-fill-color: #174EA6;\n",
              "      --disabled-fill-color: #AAA;\n",
              "      --disabled-bg-color: #DDD;\n",
              "  }\n",
              "\n",
              "  [theme=dark] .colab-df-quickchart {\n",
              "      --bg-color: #3B4455;\n",
              "      --fill-color: #D2E3FC;\n",
              "      --hover-bg-color: #434B5C;\n",
              "      --hover-fill-color: #FFFFFF;\n",
              "      --disabled-bg-color: #3B4455;\n",
              "      --disabled-fill-color: #666;\n",
              "  }\n",
              "\n",
              "  .colab-df-quickchart {\n",
              "    background-color: var(--bg-color);\n",
              "    border: none;\n",
              "    border-radius: 50%;\n",
              "    cursor: pointer;\n",
              "    display: none;\n",
              "    fill: var(--fill-color);\n",
              "    height: 32px;\n",
              "    padding: 0;\n",
              "    width: 32px;\n",
              "  }\n",
              "\n",
              "  .colab-df-quickchart:hover {\n",
              "    background-color: var(--hover-bg-color);\n",
              "    box-shadow: 0 1px 2px rgba(60, 64, 67, 0.3), 0 1px 3px 1px rgba(60, 64, 67, 0.15);\n",
              "    fill: var(--button-hover-fill-color);\n",
              "  }\n",
              "\n",
              "  .colab-df-quickchart-complete:disabled,\n",
              "  .colab-df-quickchart-complete:disabled:hover {\n",
              "    background-color: var(--disabled-bg-color);\n",
              "    fill: var(--disabled-fill-color);\n",
              "    box-shadow: none;\n",
              "  }\n",
              "\n",
              "  .colab-df-spinner {\n",
              "    border: 2px solid var(--fill-color);\n",
              "    border-color: transparent;\n",
              "    border-bottom-color: var(--fill-color);\n",
              "    animation:\n",
              "      spin 1s steps(1) infinite;\n",
              "  }\n",
              "\n",
              "  @keyframes spin {\n",
              "    0% {\n",
              "      border-color: transparent;\n",
              "      border-bottom-color: var(--fill-color);\n",
              "      border-left-color: var(--fill-color);\n",
              "    }\n",
              "    20% {\n",
              "      border-color: transparent;\n",
              "      border-left-color: var(--fill-color);\n",
              "      border-top-color: var(--fill-color);\n",
              "    }\n",
              "    30% {\n",
              "      border-color: transparent;\n",
              "      border-left-color: var(--fill-color);\n",
              "      border-top-color: var(--fill-color);\n",
              "      border-right-color: var(--fill-color);\n",
              "    }\n",
              "    40% {\n",
              "      border-color: transparent;\n",
              "      border-right-color: var(--fill-color);\n",
              "      border-top-color: var(--fill-color);\n",
              "    }\n",
              "    60% {\n",
              "      border-color: transparent;\n",
              "      border-right-color: var(--fill-color);\n",
              "    }\n",
              "    80% {\n",
              "      border-color: transparent;\n",
              "      border-right-color: var(--fill-color);\n",
              "      border-bottom-color: var(--fill-color);\n",
              "    }\n",
              "    90% {\n",
              "      border-color: transparent;\n",
              "      border-bottom-color: var(--fill-color);\n",
              "    }\n",
              "  }\n",
              "</style>\n",
              "\n",
              "  <script>\n",
              "    async function quickchart(key) {\n",
              "      const quickchartButtonEl =\n",
              "        document.querySelector('#' + key + ' button');\n",
              "      quickchartButtonEl.disabled = true;  // To prevent multiple clicks.\n",
              "      quickchartButtonEl.classList.add('colab-df-spinner');\n",
              "      try {\n",
              "        const charts = await google.colab.kernel.invokeFunction(\n",
              "            'suggestCharts', [key], {});\n",
              "      } catch (error) {\n",
              "        console.error('Error during call to suggestCharts:', error);\n",
              "      }\n",
              "      quickchartButtonEl.classList.remove('colab-df-spinner');\n",
              "      quickchartButtonEl.classList.add('colab-df-quickchart-complete');\n",
              "    }\n",
              "    (() => {\n",
              "      let quickchartButtonEl =\n",
              "        document.querySelector('#df-d977f2e5-9ef8-4f41-8dcc-e994653d8a88 button');\n",
              "      quickchartButtonEl.style.display =\n",
              "        google.colab.kernel.accessAllowed ? 'block' : 'none';\n",
              "    })();\n",
              "  </script>\n",
              "</div>\n",
              "\n",
              "    </div>\n",
              "  </div>\n"
            ],
            "text/plain": [
              "   Unnamed: 0                                               text        class\n",
              "0           2  Ex Wife Threatening SuicideRecently I left my ...      suicide\n",
              "1           3  Am I weird I don't get affected by compliments...  non-suicide\n",
              "2           4  Finally 2020 is almost over... So I can never ...  non-suicide\n",
              "3           8          i need helpjust help me im crying so hard      suicide\n",
              "4           9  I’m so lostHello, my name is Adam (16) and I’v...      suicide"
            ]
          },
          "execution_count": 9,
          "metadata": {},
          "output_type": "execute_result"
        }
      ],
      "source": [
        "import pandas as pd\n",
        "\n",
        "# Load the dataset\n",
        "df = pd.read_csv(\"/content/Suicide_Detection.csv\")\n",
        "\n",
        "# Show dataset info\n",
        "df.info()\n",
        "\n",
        "# Display first few rows\n",
        "df.head()\n"
      ]
    },
    {
      "cell_type": "code",
      "execution_count": null,
      "metadata": {
        "colab": {
          "base_uri": "https://localhost:8080/"
        },
        "id": "I3iVSjYmlawA",
        "outputId": "2bb437c2-d495-48d4-86eb-965c6dcfc045"
      },
      "outputs": [
        {
          "name": "stdout",
          "output_type": "stream",
          "text": [
            "<class 'pandas.core.frame.DataFrame'>\n",
            "RangeIndex: 232074 entries, 0 to 232073\n",
            "Data columns (total 2 columns):\n",
            " #   Column  Non-Null Count   Dtype \n",
            "---  ------  --------------   ----- \n",
            " 0   text    232074 non-null  object\n",
            " 1   class   232074 non-null  object\n",
            "dtypes: object(2)\n",
            "memory usage: 3.5+ MB\n"
          ]
        }
      ],
      "source": [
        "# Drop 'Unnamed: 0' column (not useful)\n",
        "df = df.drop(columns=['Unnamed: 0'])\n",
        "\n",
        "# Show dataset info after dropping\n",
        "df.info()\n"
      ]
    },
    {
      "cell_type": "code",
      "execution_count": null,
      "metadata": {
        "colab": {
          "base_uri": "https://localhost:8080/"
        },
        "id": "Bl11gM2DpVHm",
        "outputId": "911437ba-fb88-4f7f-dfb2-23456fc848fe"
      },
      "outputs": [
        {
          "name": "stdout",
          "output_type": "stream",
          "text": [
            "✅ Train Set:\n",
            "                                                     text        label\n",
            "58216   No guardian angelI met my partner back in 2012...      suicide\n",
            "1052    i'm losing all hope. it's not getting better. ...      suicide\n",
            "177925  The thotery is increasing The skirt trend made...  non-suicide\n",
            "228923       Every time we age Our parents rage also ages  non-suicide\n",
            "16486   My friend is suicidal and I'm afraidMy friend ...      suicide\n",
            "\n",
            "✅ Dev Set:\n",
            "                                                     text        label\n",
            "57051   Seriously considering suicideIt’s the middle o...      suicide\n",
            "125426  Why tf is she still such a huge part of my lif...  non-suicide\n",
            "78169   I keep having dreams about my old friends I do...  non-suicide\n",
            "118469  I am close to ending it all, How should it be ...      suicide\n",
            "105608  I don't get itI am not even very sad right now...      suicide\n",
            "\n",
            "✅ Test Set:\n",
            "                                                     text        label\n",
            "212177  I woke up yesterday with the feeling of having...      suicide\n",
            "36928                       did I ask bro maybe I did idk  non-suicide\n",
            "92469   Big ooff Yah bois school has been closed for t...  non-suicide\n",
            "167645  Feeling aloneHonestly, I don't know why I feel...      suicide\n",
            "229397  I have to go, it’s the only way I can stop hur...      suicide\n"
          ]
        }
      ],
      "source": [
        "import pandas as pd\n",
        "from sklearn.model_selection import train_test_split\n",
        "\n",
        "# Step 1: Load the correct dataset\n",
        "#df = pd.read_csv(\"/content/Suicide_Detection.csv\")\n",
        "\n",
        "# Step 2: Drop the 'Unnamed: 0' column (index column from CSV)\n",
        "#df.drop(columns=[\"Unnamed: 0\"], inplace=True)\n",
        "\n",
        "# Step 3: Rename 'class' to 'label' for consistency\n",
        "df.rename(columns={\"class\": \"label\"}, inplace=True)\n",
        "\n",
        "# Step 4: Split 70% train, 15% dev, 15% test\n",
        "train_df, temp_df = train_test_split(df, test_size=0.3, random_state=42, stratify=df['label'])\n",
        "dev_df, test_df = train_test_split(temp_df, test_size=0.5, random_state=42, stratify=temp_df['label'])\n",
        "\n",
        "# Step 5: Save to Drive\n",
        "train_df.to_csv(\"/content/drive/MyDrive/final_train.csv\", index=False)\n",
        "dev_df.to_csv(\"/content/drive/MyDrive/final_dev.csv\", index=False)\n",
        "test_df.to_csv(\"/content/drive/MyDrive/final_test.csv\", index=False)\n",
        "\n",
        "# Step 6: Preview first few rows\n",
        "print(\"✅ Train Set:\")\n",
        "print(train_df.head())\n",
        "print(\"\\n✅ Dev Set:\")\n",
        "print(dev_df.head())\n",
        "print(\"\\n✅ Test Set:\")\n",
        "print(test_df.head())\n"
      ]
    },
    {
      "cell_type": "code",
      "execution_count": null,
      "metadata": {
        "id": "yRrqXWV9uuvO"
      },
      "outputs": [],
      "source": [
        "# Load data\n",
        "df = pd.read_csv(\"/content/drive/MyDrive/final_train.csv\")"
      ]
    },
    {
      "cell_type": "code",
      "execution_count": null,
      "metadata": {
        "colab": {
          "base_uri": "https://localhost:8080/",
          "height": 676
        },
        "id": "FTDjgeaKux9-",
        "outputId": "6eb73bfa-d45d-4d17-863b-60d4ceb7558b"
      },
      "outputs": [
        {
          "data": {
            "application/vnd.google.colaboratory.intrinsic+json": {
              "summary": "{\n  \"name\": \"df\",\n  \"rows\": 20,\n  \"fields\": [\n    {\n      \"column\": \"text\",\n      \"properties\": {\n        \"dtype\": \"string\",\n        \"num_unique_values\": 20,\n        \"samples\": [\n          \"Can someone help me find a good book For English (I\\u2019m a freshman) I can\\u2019t find a good fiction book that\\u2019s over 200 pages anyone know one? Thanks\",\n          \"This is a two.5 part rant that's generally surrounded by my height (1/2.5) I am on taller side for a women. I'm really not *that* tall but, I'm 5'9 (177cm) but, I live in an area where girls are just typically shorter. My tallest female friend is 5'5 but, other than her most of them are between 5 ft to 5'3. On top of this, I'm not skinny like at all. I would say I'm fat but, in reality I'm just not toned and kinda chubby. So, I was talking about by cloths and it's hard enough as it is to buy cloths in person but, online it's even worse. Long story short, while I was talking to my friend we spoke about our sizes and sizing in general. She's a size typically a size 4 and I'm typically a size 10. In the moment I felt huge. I got used to being with her since she's a really close friend and I see her often but, she is 5ft (5'1 on a good day). In a group of people I hate being significantly taller, which might explain why I have so many male friends but, I keep having to remind myself that I'm 3/4 of a foot taller than her. I hate feeling huge like I'm forever going to be this height and that's never going to change but, I am very feminine and I find myself often struggling to be seen as feminine.\\n\\n(2/2.5) This brings me to the second point which is the reflection of my perceived self and how that affects my romantic relationships. My friends made a joke where I'm so hyper feminine I just don't register as feminine and to an extent that is true. I am very much what people call a bruh girl. And in that part I love it. I can make friends regardless gender (leaning towards guys typically but, that's just by chance) and it's really helpful to be personable when you meet a guy and you're trying to reap the \\\"benefits\\\" since you kinda understand how they generally like to be approached with that topic. A problem only arises when I don't want to be seen as a friend at all, when i want to be seen as a girl, a dateable girl. It's rare but, it's happened before. (Like one time really three if we're counting grains of rice too)\\n\\n(2.5/2.5) On this one specific occasion, there was a guy I was really into and whenever we were together with people (stranger, acquaintance, friends) there was often an allusion to us as a couple. Except, he never was like \\\"ugh her ew never\\\" it was always a \\\"we're not together\\\" or \\\"haha she's not my girl\\\". There was this one time we were just talking but, it was in a mildly compromising position and when someone commented something on the lines of \\\"stop making out\\\" he didn't even say anything, I did. Now I just find it funny how many people commented on us being a couple but, it's kinda of weird to think about.\",\n          \"I'm extremely hurt. ok so yesterday I was vibin doing my school work and stuff and my Father comes upstairs and takes my phone, and I'm like ok..- then I go downstairs and I see him reading through the messages with me and my boyfriend and after a few minutes, he reads through the messages with me and my friend Sprite. After that he forced me to block them on everything, insta, messages and ps4-. After that I starting crying knowing that I hurt them. My dad asked me 'What's wrong\\\" and I said \\\"You hurt me.\\\" And then he didn't respond and I went back upstairs and did the rest of my school work. A couple of hours later I finished my school work and played Rainbow Six Siege, Rocket League and Minecraft with one of my friends. Once we played for about 4 hours he left and I got off, then I started remembering all the good times me and my boyfriend and Sprite had- I started to cry and shit and my dad came upstairs asking me what's wrong and I'm like \\\"IT HURTS, IT REALLY FUCKING HURTS\\\" then he proceeds to give me a lecture on how it's not his fault. Then I have a 2 hour long mental breakdown, and now I really want to die. This is not the first time he has done this, he has done this 3 other times. Idk what to do..-\"\n        ],\n        \"semantic_type\": \"\",\n        \"description\": \"\"\n      }\n    },\n    {\n      \"column\": \"label\",\n      \"properties\": {\n        \"dtype\": \"category\",\n        \"num_unique_values\": 2,\n        \"samples\": [\n          \"suicide\",\n          \"non-suicide\"\n        ],\n        \"semantic_type\": \"\",\n        \"description\": \"\"\n      }\n    }\n  ]\n}",
              "type": "dataframe"
            },
            "text/html": [
              "\n",
              "  <div id=\"df-83fad0ab-ea11-4589-ba1a-98d8eacd5f75\" class=\"colab-df-container\">\n",
              "    <div>\n",
              "<style scoped>\n",
              "    .dataframe tbody tr th:only-of-type {\n",
              "        vertical-align: middle;\n",
              "    }\n",
              "\n",
              "    .dataframe tbody tr th {\n",
              "        vertical-align: top;\n",
              "    }\n",
              "\n",
              "    .dataframe thead th {\n",
              "        text-align: right;\n",
              "    }\n",
              "</style>\n",
              "<table border=\"1\" class=\"dataframe\">\n",
              "  <thead>\n",
              "    <tr style=\"text-align: right;\">\n",
              "      <th></th>\n",
              "      <th>text</th>\n",
              "      <th>label</th>\n",
              "    </tr>\n",
              "  </thead>\n",
              "  <tbody>\n",
              "    <tr>\n",
              "      <th>116181</th>\n",
              "      <td>Can someone help me find a good book For Engli...</td>\n",
              "      <td>non-suicide</td>\n",
              "    </tr>\n",
              "    <tr>\n",
              "      <th>52085</th>\n",
              "      <td>Can you help?!Hi guys!\\nI know it's a long sho...</td>\n",
              "      <td>suicide</td>\n",
              "    </tr>\n",
              "    <tr>\n",
              "      <th>36556</th>\n",
              "      <td>Posting every day until 2021 - day 83 Nothing ...</td>\n",
              "      <td>non-suicide</td>\n",
              "    </tr>\n",
              "    <tr>\n",
              "      <th>97505</th>\n",
              "      <td>I've picked a dateI made my fourth but most se...</td>\n",
              "      <td>suicide</td>\n",
              "    </tr>\n",
              "    <tr>\n",
              "      <th>99653</th>\n",
              "      <td>I could have been beautifulI have low function...</td>\n",
              "      <td>suicide</td>\n",
              "    </tr>\n",
              "    <tr>\n",
              "      <th>57191</th>\n",
              "      <td>Those of you in relationships...what's it like...</td>\n",
              "      <td>non-suicide</td>\n",
              "    </tr>\n",
              "    <tr>\n",
              "      <th>99882</th>\n",
              "      <td>I've been wondering what does a bag of Freezin...</td>\n",
              "      <td>non-suicide</td>\n",
              "    </tr>\n",
              "    <tr>\n",
              "      <th>23472</th>\n",
              "      <td>I overdosed yesterdayIt wasn't enough and I co...</td>\n",
              "      <td>suicide</td>\n",
              "    </tr>\n",
              "    <tr>\n",
              "      <th>108071</th>\n",
              "      <td>This is too much.I dont know why I am even pos...</td>\n",
              "      <td>suicide</td>\n",
              "    </tr>\n",
              "    <tr>\n",
              "      <th>2960</th>\n",
              "      <td>Hello thereI will absolutely die from suicide....</td>\n",
              "      <td>suicide</td>\n",
              "    </tr>\n",
              "    <tr>\n",
              "      <th>41837</th>\n",
              "      <td>- - Suck your mom Jk jk I don’t even know who ...</td>\n",
              "      <td>non-suicide</td>\n",
              "    </tr>\n",
              "    <tr>\n",
              "      <th>7554</th>\n",
              "      <td>I feel like I’m losing friends Over the past f...</td>\n",
              "      <td>non-suicide</td>\n",
              "    </tr>\n",
              "    <tr>\n",
              "      <th>77398</th>\n",
              "      <td>Writing something positive about my day, day #...</td>\n",
              "      <td>non-suicide</td>\n",
              "    </tr>\n",
              "    <tr>\n",
              "      <th>98827</th>\n",
              "      <td>Not beating my meat until I get a girlfriend o...</td>\n",
              "      <td>non-suicide</td>\n",
              "    </tr>\n",
              "    <tr>\n",
              "      <th>121160</th>\n",
              "      <td>If you were a lego set You would definitely be...</td>\n",
              "      <td>non-suicide</td>\n",
              "    </tr>\n",
              "    <tr>\n",
              "      <th>13857</th>\n",
              "      <td>I'm extremely hurt. ok so yesterday I was vibi...</td>\n",
              "      <td>non-suicide</td>\n",
              "    </tr>\n",
              "    <tr>\n",
              "      <th>23158</th>\n",
              "      <td>You ever wonder where some users went? There a...</td>\n",
              "      <td>non-suicide</td>\n",
              "    </tr>\n",
              "    <tr>\n",
              "      <th>86963</th>\n",
              "      <td>This is a two.5 part rant that's generally sur...</td>\n",
              "      <td>non-suicide</td>\n",
              "    </tr>\n",
              "    <tr>\n",
              "      <th>151961</th>\n",
              "      <td>i'm going to school wish me luck friends that'...</td>\n",
              "      <td>non-suicide</td>\n",
              "    </tr>\n",
              "    <tr>\n",
              "      <th>77804</th>\n",
              "      <td>There just isn't anywhere left to runThe few p...</td>\n",
              "      <td>suicide</td>\n",
              "    </tr>\n",
              "  </tbody>\n",
              "</table>\n",
              "</div>\n",
              "    <div class=\"colab-df-buttons\">\n",
              "\n",
              "  <div class=\"colab-df-container\">\n",
              "    <button class=\"colab-df-convert\" onclick=\"convertToInteractive('df-83fad0ab-ea11-4589-ba1a-98d8eacd5f75')\"\n",
              "            title=\"Convert this dataframe to an interactive table.\"\n",
              "            style=\"display:none;\">\n",
              "\n",
              "  <svg xmlns=\"http://www.w3.org/2000/svg\" height=\"24px\" viewBox=\"0 -960 960 960\">\n",
              "    <path d=\"M120-120v-720h720v720H120Zm60-500h600v-160H180v160Zm220 220h160v-160H400v160Zm0 220h160v-160H400v160ZM180-400h160v-160H180v160Zm440 0h160v-160H620v160ZM180-180h160v-160H180v160Zm440 0h160v-160H620v160Z\"/>\n",
              "  </svg>\n",
              "    </button>\n",
              "\n",
              "  <style>\n",
              "    .colab-df-container {\n",
              "      display:flex;\n",
              "      gap: 12px;\n",
              "    }\n",
              "\n",
              "    .colab-df-convert {\n",
              "      background-color: #E8F0FE;\n",
              "      border: none;\n",
              "      border-radius: 50%;\n",
              "      cursor: pointer;\n",
              "      display: none;\n",
              "      fill: #1967D2;\n",
              "      height: 32px;\n",
              "      padding: 0 0 0 0;\n",
              "      width: 32px;\n",
              "    }\n",
              "\n",
              "    .colab-df-convert:hover {\n",
              "      background-color: #E2EBFA;\n",
              "      box-shadow: 0px 1px 2px rgba(60, 64, 67, 0.3), 0px 1px 3px 1px rgba(60, 64, 67, 0.15);\n",
              "      fill: #174EA6;\n",
              "    }\n",
              "\n",
              "    .colab-df-buttons div {\n",
              "      margin-bottom: 4px;\n",
              "    }\n",
              "\n",
              "    [theme=dark] .colab-df-convert {\n",
              "      background-color: #3B4455;\n",
              "      fill: #D2E3FC;\n",
              "    }\n",
              "\n",
              "    [theme=dark] .colab-df-convert:hover {\n",
              "      background-color: #434B5C;\n",
              "      box-shadow: 0px 1px 3px 1px rgba(0, 0, 0, 0.15);\n",
              "      filter: drop-shadow(0px 1px 2px rgba(0, 0, 0, 0.3));\n",
              "      fill: #FFFFFF;\n",
              "    }\n",
              "  </style>\n",
              "\n",
              "    <script>\n",
              "      const buttonEl =\n",
              "        document.querySelector('#df-83fad0ab-ea11-4589-ba1a-98d8eacd5f75 button.colab-df-convert');\n",
              "      buttonEl.style.display =\n",
              "        google.colab.kernel.accessAllowed ? 'block' : 'none';\n",
              "\n",
              "      async function convertToInteractive(key) {\n",
              "        const element = document.querySelector('#df-83fad0ab-ea11-4589-ba1a-98d8eacd5f75');\n",
              "        const dataTable =\n",
              "          await google.colab.kernel.invokeFunction('convertToInteractive',\n",
              "                                                    [key], {});\n",
              "        if (!dataTable) return;\n",
              "\n",
              "        const docLinkHtml = 'Like what you see? Visit the ' +\n",
              "          '<a target=\"_blank\" href=https://colab.research.google.com/notebooks/data_table.ipynb>data table notebook</a>'\n",
              "          + ' to learn more about interactive tables.';\n",
              "        element.innerHTML = '';\n",
              "        dataTable['output_type'] = 'display_data';\n",
              "        await google.colab.output.renderOutput(dataTable, element);\n",
              "        const docLink = document.createElement('div');\n",
              "        docLink.innerHTML = docLinkHtml;\n",
              "        element.appendChild(docLink);\n",
              "      }\n",
              "    </script>\n",
              "  </div>\n",
              "\n",
              "\n",
              "<div id=\"df-741d40eb-0a8e-46ba-8a40-febb4840664e\">\n",
              "  <button class=\"colab-df-quickchart\" onclick=\"quickchart('df-741d40eb-0a8e-46ba-8a40-febb4840664e')\"\n",
              "            title=\"Suggest charts\"\n",
              "            style=\"display:none;\">\n",
              "\n",
              "<svg xmlns=\"http://www.w3.org/2000/svg\" height=\"24px\"viewBox=\"0 0 24 24\"\n",
              "     width=\"24px\">\n",
              "    <g>\n",
              "        <path d=\"M19 3H5c-1.1 0-2 .9-2 2v14c0 1.1.9 2 2 2h14c1.1 0 2-.9 2-2V5c0-1.1-.9-2-2-2zM9 17H7v-7h2v7zm4 0h-2V7h2v10zm4 0h-2v-4h2v4z\"/>\n",
              "    </g>\n",
              "</svg>\n",
              "  </button>\n",
              "\n",
              "<style>\n",
              "  .colab-df-quickchart {\n",
              "      --bg-color: #E8F0FE;\n",
              "      --fill-color: #1967D2;\n",
              "      --hover-bg-color: #E2EBFA;\n",
              "      --hover-fill-color: #174EA6;\n",
              "      --disabled-fill-color: #AAA;\n",
              "      --disabled-bg-color: #DDD;\n",
              "  }\n",
              "\n",
              "  [theme=dark] .colab-df-quickchart {\n",
              "      --bg-color: #3B4455;\n",
              "      --fill-color: #D2E3FC;\n",
              "      --hover-bg-color: #434B5C;\n",
              "      --hover-fill-color: #FFFFFF;\n",
              "      --disabled-bg-color: #3B4455;\n",
              "      --disabled-fill-color: #666;\n",
              "  }\n",
              "\n",
              "  .colab-df-quickchart {\n",
              "    background-color: var(--bg-color);\n",
              "    border: none;\n",
              "    border-radius: 50%;\n",
              "    cursor: pointer;\n",
              "    display: none;\n",
              "    fill: var(--fill-color);\n",
              "    height: 32px;\n",
              "    padding: 0;\n",
              "    width: 32px;\n",
              "  }\n",
              "\n",
              "  .colab-df-quickchart:hover {\n",
              "    background-color: var(--hover-bg-color);\n",
              "    box-shadow: 0 1px 2px rgba(60, 64, 67, 0.3), 0 1px 3px 1px rgba(60, 64, 67, 0.15);\n",
              "    fill: var(--button-hover-fill-color);\n",
              "  }\n",
              "\n",
              "  .colab-df-quickchart-complete:disabled,\n",
              "  .colab-df-quickchart-complete:disabled:hover {\n",
              "    background-color: var(--disabled-bg-color);\n",
              "    fill: var(--disabled-fill-color);\n",
              "    box-shadow: none;\n",
              "  }\n",
              "\n",
              "  .colab-df-spinner {\n",
              "    border: 2px solid var(--fill-color);\n",
              "    border-color: transparent;\n",
              "    border-bottom-color: var(--fill-color);\n",
              "    animation:\n",
              "      spin 1s steps(1) infinite;\n",
              "  }\n",
              "\n",
              "  @keyframes spin {\n",
              "    0% {\n",
              "      border-color: transparent;\n",
              "      border-bottom-color: var(--fill-color);\n",
              "      border-left-color: var(--fill-color);\n",
              "    }\n",
              "    20% {\n",
              "      border-color: transparent;\n",
              "      border-left-color: var(--fill-color);\n",
              "      border-top-color: var(--fill-color);\n",
              "    }\n",
              "    30% {\n",
              "      border-color: transparent;\n",
              "      border-left-color: var(--fill-color);\n",
              "      border-top-color: var(--fill-color);\n",
              "      border-right-color: var(--fill-color);\n",
              "    }\n",
              "    40% {\n",
              "      border-color: transparent;\n",
              "      border-right-color: var(--fill-color);\n",
              "      border-top-color: var(--fill-color);\n",
              "    }\n",
              "    60% {\n",
              "      border-color: transparent;\n",
              "      border-right-color: var(--fill-color);\n",
              "    }\n",
              "    80% {\n",
              "      border-color: transparent;\n",
              "      border-right-color: var(--fill-color);\n",
              "      border-bottom-color: var(--fill-color);\n",
              "    }\n",
              "    90% {\n",
              "      border-color: transparent;\n",
              "      border-bottom-color: var(--fill-color);\n",
              "    }\n",
              "  }\n",
              "</style>\n",
              "\n",
              "  <script>\n",
              "    async function quickchart(key) {\n",
              "      const quickchartButtonEl =\n",
              "        document.querySelector('#' + key + ' button');\n",
              "      quickchartButtonEl.disabled = true;  // To prevent multiple clicks.\n",
              "      quickchartButtonEl.classList.add('colab-df-spinner');\n",
              "      try {\n",
              "        const charts = await google.colab.kernel.invokeFunction(\n",
              "            'suggestCharts', [key], {});\n",
              "      } catch (error) {\n",
              "        console.error('Error during call to suggestCharts:', error);\n",
              "      }\n",
              "      quickchartButtonEl.classList.remove('colab-df-spinner');\n",
              "      quickchartButtonEl.classList.add('colab-df-quickchart-complete');\n",
              "    }\n",
              "    (() => {\n",
              "      let quickchartButtonEl =\n",
              "        document.querySelector('#df-741d40eb-0a8e-46ba-8a40-febb4840664e button');\n",
              "      quickchartButtonEl.style.display =\n",
              "        google.colab.kernel.accessAllowed ? 'block' : 'none';\n",
              "    })();\n",
              "  </script>\n",
              "</div>\n",
              "\n",
              "    </div>\n",
              "  </div>\n"
            ],
            "text/plain": [
              "                                                     text        label\n",
              "116181  Can someone help me find a good book For Engli...  non-suicide\n",
              "52085   Can you help?!Hi guys!\\nI know it's a long sho...      suicide\n",
              "36556   Posting every day until 2021 - day 83 Nothing ...  non-suicide\n",
              "97505   I've picked a dateI made my fourth but most se...      suicide\n",
              "99653   I could have been beautifulI have low function...      suicide\n",
              "57191   Those of you in relationships...what's it like...  non-suicide\n",
              "99882   I've been wondering what does a bag of Freezin...  non-suicide\n",
              "23472   I overdosed yesterdayIt wasn't enough and I co...      suicide\n",
              "108071  This is too much.I dont know why I am even pos...      suicide\n",
              "2960    Hello thereI will absolutely die from suicide....      suicide\n",
              "41837   - - Suck your mom Jk jk I don’t even know who ...  non-suicide\n",
              "7554    I feel like I’m losing friends Over the past f...  non-suicide\n",
              "77398   Writing something positive about my day, day #...  non-suicide\n",
              "98827   Not beating my meat until I get a girlfriend o...  non-suicide\n",
              "121160  If you were a lego set You would definitely be...  non-suicide\n",
              "13857   I'm extremely hurt. ok so yesterday I was vibi...  non-suicide\n",
              "23158   You ever wonder where some users went? There a...  non-suicide\n",
              "86963   This is a two.5 part rant that's generally sur...  non-suicide\n",
              "151961  i'm going to school wish me luck friends that'...  non-suicide\n",
              "77804   There just isn't anywhere left to runThe few p...      suicide"
            ]
          },
          "execution_count": 18,
          "metadata": {},
          "output_type": "execute_result"
        }
      ],
      "source": [
        "df.sample(n=20)"
      ]
    },
    {
      "cell_type": "code",
      "execution_count": null,
      "metadata": {
        "colab": {
          "base_uri": "https://localhost:8080/"
        },
        "id": "rArBpPvdo-5J",
        "outputId": "535b5be6-8a24-4ca9-f9d2-6dacfee6d3e0"
      },
      "outputs": [
        {
          "name": "stdout",
          "output_type": "stream",
          "text": [
            "Suicide: 81226, Non-Suicide: 81225\n",
            "✅ Balanced dataset saved as 'balanced_final_train.csv'\n"
          ]
        }
      ],
      "source": [
        "import pandas as pd\n",
        "from sklearn.utils import shuffle\n",
        "\n",
        "# Load data\n",
        "df = pd.read_csv(\"/content/drive/MyDrive/final_train.csv\")\n",
        "\n",
        "# Drop nulls\n",
        "df = df.dropna(subset=[\"text\", \"label\"])\n",
        "\n",
        "# Filter suicide and non-suicide\n",
        "suicidal_df = df[df[\"label\"].str.lower() == \"suicide\"]\n",
        "non_suicidal_df = df[df[\"label\"].str.lower() != \"suicide\"]\n",
        "\n",
        "# Print lengths to be sure\n",
        "print(f\"Suicide: {len(suicidal_df)}, Non-Suicide: {len(non_suicidal_df)}\")\n",
        "\n",
        "# Ensure we sample only as much as exists\n",
        "min_len = min(len(suicidal_df), len(non_suicidal_df))\n",
        "suicidal_sample = suicidal_df.sample(n=min_len, random_state=42)\n",
        "non_suicidal_sample = non_suicidal_df.sample(n=min_len, random_state=42)\n",
        "\n",
        "# Combine and shuffle\n",
        "balanced_df = pd.concat([suicidal_sample, non_suicidal_sample])\n",
        "balanced_df = shuffle(balanced_df, random_state=42)\n",
        "\n",
        "# Save it\n",
        "balanced_df.to_csv(\"/content/drive/MyDrive/balanced_final_train.csv\", index=False)\n",
        "\n",
        "print(\"✅ Balanced dataset saved as 'balanced_final_train.csv'\")\n"
      ]
    },
    {
      "cell_type": "code",
      "execution_count": null,
      "metadata": {
        "colab": {
          "base_uri": "https://localhost:8080/"
        },
        "id": "mnGars1btw9T",
        "outputId": "42a67964-0c17-4ff6-dda1-561c4cb76894"
      },
      "outputs": [
        {
          "data": {
            "text/plain": [
              "162451"
            ]
          },
          "execution_count": 13,
          "metadata": {},
          "output_type": "execute_result"
        }
      ],
      "source": [
        "len(df)\n"
      ]
    },
    {
      "cell_type": "code",
      "execution_count": null,
      "metadata": {
        "colab": {
          "base_uri": "https://localhost:8080/",
          "height": 676
        },
        "id": "ygCBPmXUt8bO",
        "outputId": "d1982aba-1389-40a6-e008-bfa571841204"
      },
      "outputs": [
        {
          "data": {
            "application/vnd.google.colaboratory.intrinsic+json": {
              "summary": "{\n  \"name\": \"df\",\n  \"rows\": 20,\n  \"fields\": [\n    {\n      \"column\": \"text\",\n      \"properties\": {\n        \"dtype\": \"string\",\n        \"num_unique_values\": 20,\n        \"samples\": [\n          \"hiii how was everyones day? i think mine was alright but then something happened at the end that made me dislike it so ima rate it a 5/10\",\n          \"I shave my balls with a straight razor. I only cut out a testicle once. I've shaved a few of my black ass bumps clean off too. But it's chill.\",\n          \"I don\\u2019t know what memories are real and what memories are fake and it\\u2019s driving me to suicideI think I have ocd and I suffer from one type called false memory ocd, it\\u2019s basically your brain telling you that you did stuff that you didn\\u2019t do, I don\\u2019t know what actually happened and what my brain is making up. If I actually did some of these unspeakable things then I should probably just go kill myself because I don\\u2019t deserve to live\"\n        ],\n        \"semantic_type\": \"\",\n        \"description\": \"\"\n      }\n    },\n    {\n      \"column\": \"label\",\n      \"properties\": {\n        \"dtype\": \"number\",\n        \"std\": 0,\n        \"min\": 0,\n        \"max\": 1,\n        \"num_unique_values\": 2,\n        \"samples\": [\n          1,\n          0\n        ],\n        \"semantic_type\": \"\",\n        \"description\": \"\"\n      }\n    }\n  ]\n}",
              "type": "dataframe"
            },
            "text/html": [
              "\n",
              "  <div id=\"df-d35bbda6-ed66-45ad-a741-df30e967fdb7\" class=\"colab-df-container\">\n",
              "    <div>\n",
              "<style scoped>\n",
              "    .dataframe tbody tr th:only-of-type {\n",
              "        vertical-align: middle;\n",
              "    }\n",
              "\n",
              "    .dataframe tbody tr th {\n",
              "        vertical-align: top;\n",
              "    }\n",
              "\n",
              "    .dataframe thead th {\n",
              "        text-align: right;\n",
              "    }\n",
              "</style>\n",
              "<table border=\"1\" class=\"dataframe\">\n",
              "  <thead>\n",
              "    <tr style=\"text-align: right;\">\n",
              "      <th></th>\n",
              "      <th>text</th>\n",
              "      <th>label</th>\n",
              "    </tr>\n",
              "  </thead>\n",
              "  <tbody>\n",
              "    <tr>\n",
              "      <th>117449</th>\n",
              "      <td>hiii how was everyones day? i think mine was a...</td>\n",
              "      <td>0</td>\n",
              "    </tr>\n",
              "    <tr>\n",
              "      <th>79656</th>\n",
              "      <td>Lonely.I know this is cringy as fuck to say, b...</td>\n",
              "      <td>1</td>\n",
              "    </tr>\n",
              "    <tr>\n",
              "      <th>35553</th>\n",
              "      <td>I'm really at the end of my rope.Today I have ...</td>\n",
              "      <td>1</td>\n",
              "    </tr>\n",
              "    <tr>\n",
              "      <th>110487</th>\n",
              "      <td>IF i had a dollar I would have 3.57 soles  \\ni...</td>\n",
              "      <td>0</td>\n",
              "    </tr>\n",
              "    <tr>\n",
              "      <th>73575</th>\n",
              "      <td>I've been talking to this girl. She's in my se...</td>\n",
              "      <td>0</td>\n",
              "    </tr>\n",
              "    <tr>\n",
              "      <th>136009</th>\n",
              "      <td>Found a really cute redditor. [This](https://w...</td>\n",
              "      <td>0</td>\n",
              "    </tr>\n",
              "    <tr>\n",
              "      <th>10777</th>\n",
              "      <td>Some useless rant about subreddits I hate it w...</td>\n",
              "      <td>0</td>\n",
              "    </tr>\n",
              "    <tr>\n",
              "      <th>86417</th>\n",
              "      <td>Being told that I \"overshare too much\" made me...</td>\n",
              "      <td>1</td>\n",
              "    </tr>\n",
              "    <tr>\n",
              "      <th>4625</th>\n",
              "      <td>Apparently California executed 2 people by gas...</td>\n",
              "      <td>0</td>\n",
              "    </tr>\n",
              "    <tr>\n",
              "      <th>137338</th>\n",
              "      <td>Monday MorningI think I've decided to go on Mo...</td>\n",
              "      <td>1</td>\n",
              "    </tr>\n",
              "    <tr>\n",
              "      <th>57724</th>\n",
              "      <td>I don't understand this systemWhy do bad peopl...</td>\n",
              "      <td>1</td>\n",
              "    </tr>\n",
              "    <tr>\n",
              "      <th>82836</th>\n",
              "      <td>I was ready to do itAfter a few attempts in th...</td>\n",
              "      <td>1</td>\n",
              "    </tr>\n",
              "    <tr>\n",
              "      <th>140662</th>\n",
              "      <td>I really want to dieIt's too stressful to cont...</td>\n",
              "      <td>1</td>\n",
              "    </tr>\n",
              "    <tr>\n",
              "      <th>9297</th>\n",
              "      <td>catfish stories i was catfished when i was 13 ...</td>\n",
              "      <td>0</td>\n",
              "    </tr>\n",
              "    <tr>\n",
              "      <th>121058</th>\n",
              "      <td>Coming off of Effexor sucks....So I've been sl...</td>\n",
              "      <td>1</td>\n",
              "    </tr>\n",
              "    <tr>\n",
              "      <th>138162</th>\n",
              "      <td>I don’t know what memories are real and what m...</td>\n",
              "      <td>1</td>\n",
              "    </tr>\n",
              "    <tr>\n",
              "      <th>39805</th>\n",
              "      <td>I feel like shit Ik this is gonna be a kinda l...</td>\n",
              "      <td>0</td>\n",
              "    </tr>\n",
              "    <tr>\n",
              "      <th>155142</th>\n",
              "      <td>I shave my balls with a straight razor. I only...</td>\n",
              "      <td>0</td>\n",
              "    </tr>\n",
              "    <tr>\n",
              "      <th>51429</th>\n",
              "      <td>Can anyone advise me how to deal whit anxiety ...</td>\n",
              "      <td>0</td>\n",
              "    </tr>\n",
              "    <tr>\n",
              "      <th>36862</th>\n",
              "      <td>A friend of mine needs help.A friend of mine f...</td>\n",
              "      <td>1</td>\n",
              "    </tr>\n",
              "  </tbody>\n",
              "</table>\n",
              "</div>\n",
              "    <div class=\"colab-df-buttons\">\n",
              "\n",
              "  <div class=\"colab-df-container\">\n",
              "    <button class=\"colab-df-convert\" onclick=\"convertToInteractive('df-d35bbda6-ed66-45ad-a741-df30e967fdb7')\"\n",
              "            title=\"Convert this dataframe to an interactive table.\"\n",
              "            style=\"display:none;\">\n",
              "\n",
              "  <svg xmlns=\"http://www.w3.org/2000/svg\" height=\"24px\" viewBox=\"0 -960 960 960\">\n",
              "    <path d=\"M120-120v-720h720v720H120Zm60-500h600v-160H180v160Zm220 220h160v-160H400v160Zm0 220h160v-160H400v160ZM180-400h160v-160H180v160Zm440 0h160v-160H620v160ZM180-180h160v-160H180v160Zm440 0h160v-160H620v160Z\"/>\n",
              "  </svg>\n",
              "    </button>\n",
              "\n",
              "  <style>\n",
              "    .colab-df-container {\n",
              "      display:flex;\n",
              "      gap: 12px;\n",
              "    }\n",
              "\n",
              "    .colab-df-convert {\n",
              "      background-color: #E8F0FE;\n",
              "      border: none;\n",
              "      border-radius: 50%;\n",
              "      cursor: pointer;\n",
              "      display: none;\n",
              "      fill: #1967D2;\n",
              "      height: 32px;\n",
              "      padding: 0 0 0 0;\n",
              "      width: 32px;\n",
              "    }\n",
              "\n",
              "    .colab-df-convert:hover {\n",
              "      background-color: #E2EBFA;\n",
              "      box-shadow: 0px 1px 2px rgba(60, 64, 67, 0.3), 0px 1px 3px 1px rgba(60, 64, 67, 0.15);\n",
              "      fill: #174EA6;\n",
              "    }\n",
              "\n",
              "    .colab-df-buttons div {\n",
              "      margin-bottom: 4px;\n",
              "    }\n",
              "\n",
              "    [theme=dark] .colab-df-convert {\n",
              "      background-color: #3B4455;\n",
              "      fill: #D2E3FC;\n",
              "    }\n",
              "\n",
              "    [theme=dark] .colab-df-convert:hover {\n",
              "      background-color: #434B5C;\n",
              "      box-shadow: 0px 1px 3px 1px rgba(0, 0, 0, 0.15);\n",
              "      filter: drop-shadow(0px 1px 2px rgba(0, 0, 0, 0.3));\n",
              "      fill: #FFFFFF;\n",
              "    }\n",
              "  </style>\n",
              "\n",
              "    <script>\n",
              "      const buttonEl =\n",
              "        document.querySelector('#df-d35bbda6-ed66-45ad-a741-df30e967fdb7 button.colab-df-convert');\n",
              "      buttonEl.style.display =\n",
              "        google.colab.kernel.accessAllowed ? 'block' : 'none';\n",
              "\n",
              "      async function convertToInteractive(key) {\n",
              "        const element = document.querySelector('#df-d35bbda6-ed66-45ad-a741-df30e967fdb7');\n",
              "        const dataTable =\n",
              "          await google.colab.kernel.invokeFunction('convertToInteractive',\n",
              "                                                    [key], {});\n",
              "        if (!dataTable) return;\n",
              "\n",
              "        const docLinkHtml = 'Like what you see? Visit the ' +\n",
              "          '<a target=\"_blank\" href=https://colab.research.google.com/notebooks/data_table.ipynb>data table notebook</a>'\n",
              "          + ' to learn more about interactive tables.';\n",
              "        element.innerHTML = '';\n",
              "        dataTable['output_type'] = 'display_data';\n",
              "        await google.colab.output.renderOutput(dataTable, element);\n",
              "        const docLink = document.createElement('div');\n",
              "        docLink.innerHTML = docLinkHtml;\n",
              "        element.appendChild(docLink);\n",
              "      }\n",
              "    </script>\n",
              "  </div>\n",
              "\n",
              "\n",
              "<div id=\"df-b5d78d55-b9a0-4085-a01d-3a9720b398b8\">\n",
              "  <button class=\"colab-df-quickchart\" onclick=\"quickchart('df-b5d78d55-b9a0-4085-a01d-3a9720b398b8')\"\n",
              "            title=\"Suggest charts\"\n",
              "            style=\"display:none;\">\n",
              "\n",
              "<svg xmlns=\"http://www.w3.org/2000/svg\" height=\"24px\"viewBox=\"0 0 24 24\"\n",
              "     width=\"24px\">\n",
              "    <g>\n",
              "        <path d=\"M19 3H5c-1.1 0-2 .9-2 2v14c0 1.1.9 2 2 2h14c1.1 0 2-.9 2-2V5c0-1.1-.9-2-2-2zM9 17H7v-7h2v7zm4 0h-2V7h2v10zm4 0h-2v-4h2v4z\"/>\n",
              "    </g>\n",
              "</svg>\n",
              "  </button>\n",
              "\n",
              "<style>\n",
              "  .colab-df-quickchart {\n",
              "      --bg-color: #E8F0FE;\n",
              "      --fill-color: #1967D2;\n",
              "      --hover-bg-color: #E2EBFA;\n",
              "      --hover-fill-color: #174EA6;\n",
              "      --disabled-fill-color: #AAA;\n",
              "      --disabled-bg-color: #DDD;\n",
              "  }\n",
              "\n",
              "  [theme=dark] .colab-df-quickchart {\n",
              "      --bg-color: #3B4455;\n",
              "      --fill-color: #D2E3FC;\n",
              "      --hover-bg-color: #434B5C;\n",
              "      --hover-fill-color: #FFFFFF;\n",
              "      --disabled-bg-color: #3B4455;\n",
              "      --disabled-fill-color: #666;\n",
              "  }\n",
              "\n",
              "  .colab-df-quickchart {\n",
              "    background-color: var(--bg-color);\n",
              "    border: none;\n",
              "    border-radius: 50%;\n",
              "    cursor: pointer;\n",
              "    display: none;\n",
              "    fill: var(--fill-color);\n",
              "    height: 32px;\n",
              "    padding: 0;\n",
              "    width: 32px;\n",
              "  }\n",
              "\n",
              "  .colab-df-quickchart:hover {\n",
              "    background-color: var(--hover-bg-color);\n",
              "    box-shadow: 0 1px 2px rgba(60, 64, 67, 0.3), 0 1px 3px 1px rgba(60, 64, 67, 0.15);\n",
              "    fill: var(--button-hover-fill-color);\n",
              "  }\n",
              "\n",
              "  .colab-df-quickchart-complete:disabled,\n",
              "  .colab-df-quickchart-complete:disabled:hover {\n",
              "    background-color: var(--disabled-bg-color);\n",
              "    fill: var(--disabled-fill-color);\n",
              "    box-shadow: none;\n",
              "  }\n",
              "\n",
              "  .colab-df-spinner {\n",
              "    border: 2px solid var(--fill-color);\n",
              "    border-color: transparent;\n",
              "    border-bottom-color: var(--fill-color);\n",
              "    animation:\n",
              "      spin 1s steps(1) infinite;\n",
              "  }\n",
              "\n",
              "  @keyframes spin {\n",
              "    0% {\n",
              "      border-color: transparent;\n",
              "      border-bottom-color: var(--fill-color);\n",
              "      border-left-color: var(--fill-color);\n",
              "    }\n",
              "    20% {\n",
              "      border-color: transparent;\n",
              "      border-left-color: var(--fill-color);\n",
              "      border-top-color: var(--fill-color);\n",
              "    }\n",
              "    30% {\n",
              "      border-color: transparent;\n",
              "      border-left-color: var(--fill-color);\n",
              "      border-top-color: var(--fill-color);\n",
              "      border-right-color: var(--fill-color);\n",
              "    }\n",
              "    40% {\n",
              "      border-color: transparent;\n",
              "      border-right-color: var(--fill-color);\n",
              "      border-top-color: var(--fill-color);\n",
              "    }\n",
              "    60% {\n",
              "      border-color: transparent;\n",
              "      border-right-color: var(--fill-color);\n",
              "    }\n",
              "    80% {\n",
              "      border-color: transparent;\n",
              "      border-right-color: var(--fill-color);\n",
              "      border-bottom-color: var(--fill-color);\n",
              "    }\n",
              "    90% {\n",
              "      border-color: transparent;\n",
              "      border-bottom-color: var(--fill-color);\n",
              "    }\n",
              "  }\n",
              "</style>\n",
              "\n",
              "  <script>\n",
              "    async function quickchart(key) {\n",
              "      const quickchartButtonEl =\n",
              "        document.querySelector('#' + key + ' button');\n",
              "      quickchartButtonEl.disabled = true;  // To prevent multiple clicks.\n",
              "      quickchartButtonEl.classList.add('colab-df-spinner');\n",
              "      try {\n",
              "        const charts = await google.colab.kernel.invokeFunction(\n",
              "            'suggestCharts', [key], {});\n",
              "      } catch (error) {\n",
              "        console.error('Error during call to suggestCharts:', error);\n",
              "      }\n",
              "      quickchartButtonEl.classList.remove('colab-df-spinner');\n",
              "      quickchartButtonEl.classList.add('colab-df-quickchart-complete');\n",
              "    }\n",
              "    (() => {\n",
              "      let quickchartButtonEl =\n",
              "        document.querySelector('#df-b5d78d55-b9a0-4085-a01d-3a9720b398b8 button');\n",
              "      quickchartButtonEl.style.display =\n",
              "        google.colab.kernel.accessAllowed ? 'block' : 'none';\n",
              "    })();\n",
              "  </script>\n",
              "</div>\n",
              "\n",
              "    </div>\n",
              "  </div>\n"
            ],
            "text/plain": [
              "                                                     text  label\n",
              "117449  hiii how was everyones day? i think mine was a...      0\n",
              "79656   Lonely.I know this is cringy as fuck to say, b...      1\n",
              "35553   I'm really at the end of my rope.Today I have ...      1\n",
              "110487  IF i had a dollar I would have 3.57 soles  \\ni...      0\n",
              "73575   I've been talking to this girl. She's in my se...      0\n",
              "136009  Found a really cute redditor. [This](https://w...      0\n",
              "10777   Some useless rant about subreddits I hate it w...      0\n",
              "86417   Being told that I \"overshare too much\" made me...      1\n",
              "4625    Apparently California executed 2 people by gas...      0\n",
              "137338  Monday MorningI think I've decided to go on Mo...      1\n",
              "57724   I don't understand this systemWhy do bad peopl...      1\n",
              "82836   I was ready to do itAfter a few attempts in th...      1\n",
              "140662  I really want to dieIt's too stressful to cont...      1\n",
              "9297    catfish stories i was catfished when i was 13 ...      0\n",
              "121058  Coming off of Effexor sucks....So I've been sl...      1\n",
              "138162  I don’t know what memories are real and what m...      1\n",
              "39805   I feel like shit Ik this is gonna be a kinda l...      0\n",
              "155142  I shave my balls with a straight razor. I only...      0\n",
              "51429   Can anyone advise me how to deal whit anxiety ...      0\n",
              "36862   A friend of mine needs help.A friend of mine f...      1"
            ]
          },
          "execution_count": 15,
          "metadata": {},
          "output_type": "execute_result"
        }
      ],
      "source": [
        "df.sample(n=20)\n"
      ]
    },
    {
      "cell_type": "code",
      "execution_count": null,
      "metadata": {
        "colab": {
          "base_uri": "https://localhost:8080/"
        },
        "id": "EK4fI4SeuVJ5",
        "outputId": "53e6b384-c9c7-4df1-d8b2-3ad8af0c925d"
      },
      "outputs": [
        {
          "data": {
            "text/plain": [
              "2"
            ]
          },
          "execution_count": 16,
          "metadata": {},
          "output_type": "execute_result"
        }
      ],
      "source": [
        "df['label'].nunique()\n"
      ]
    },
    {
      "cell_type": "code",
      "execution_count": null,
      "metadata": {
        "colab": {
          "base_uri": "https://localhost:8080/"
        },
        "id": "IRgMFcLkqctP",
        "outputId": "129eac2f-5c05-4cb8-9637-1602db56e47e"
      },
      "outputs": [
        {
          "name": "stdout",
          "output_type": "stream",
          "text": [
            "Total rows: 162451\n",
            "label\n",
            "suicide        81226\n",
            "non-suicide    81225\n",
            "Name: count, dtype: int64\n"
          ]
        }
      ],
      "source": [
        "print(\"Total rows:\", len(df))\n",
        "print(df[\"label\"].value_counts(dropna=False))\n"
      ]
    },
    {
      "cell_type": "code",
      "execution_count": null,
      "metadata": {
        "colab": {
          "base_uri": "https://localhost:8080/"
        },
        "id": "VFuFrJ8Lq1ao",
        "outputId": "2696abb3-18bc-404d-8a9b-2fdf19f438f5"
      },
      "outputs": [
        {
          "name": "stdout",
          "output_type": "stream",
          "text": [
            "label\n",
            "1    81226\n",
            "0    81225\n",
            "Name: count, dtype: int64\n"
          ]
        }
      ],
      "source": [
        "# Step 1: Remove nulls\n",
        "df = df.dropna(subset=[\"text\", \"label\"])\n",
        "\n",
        "# Step 2: Convert labels\n",
        "df[\"label\"] = df[\"label\"].apply(lambda x: 1 if x == \"suicide\" or x == 1 else 0)\n",
        "\n",
        "# Step 3: Check counts\n",
        "print(df[\"label\"].value_counts())\n"
      ]
    },
    {
      "cell_type": "code",
      "execution_count": null,
      "metadata": {
        "colab": {
          "base_uri": "https://localhost:8080/"
        },
        "id": "LkQ9_8PLvLcs",
        "outputId": "70136561-b1a6-4101-b31b-1d76db6f43eb"
      },
      "outputs": [
        {
          "output_type": "stream",
          "name": "stdout",
          "text": [
            "root\n",
            " |-- text: string (nullable = true)\n",
            " |-- label: string (nullable = true)\n",
            "\n",
            "+------------------------------------------------------------------------------------------------------------------------------------------------------------------------------------------------------------------------------------------------------------------------------------------------------------------------------------------------------------------------------------------------------------------------------------------------------------------------------------------------------------------------------------------------------------------------------------------------------------------------------------------------------------------------------------------------------------------------------------------------------------------------------------------------------------------------------------------------------------------------------------------------------------------------------------------------------------------------------------------------------------------------------------------------------------------------------------------------------------------------------------------------------------------------------------------------------------------------------------------------------------------------------------------------------------------------------------------------------------------------------------------------------------------------------------------------------------------------------------------------------------------------------------------------------------------------------------------------------------------------------------------------------------------------------------------------------------------------------------------------------------+-----------+\n",
            "|text                                                                                                                                                                                                                                                                                                                                                                                                                                                                                                                                                                                                                                                                                                                                                                                                                                                                                                                                                                                                                                                                                                                                                                                                                                                                                                                                                                                                                                                                                                                                                                                                                                                                                                                                                        |label      |\n",
            "+------------------------------------------------------------------------------------------------------------------------------------------------------------------------------------------------------------------------------------------------------------------------------------------------------------------------------------------------------------------------------------------------------------------------------------------------------------------------------------------------------------------------------------------------------------------------------------------------------------------------------------------------------------------------------------------------------------------------------------------------------------------------------------------------------------------------------------------------------------------------------------------------------------------------------------------------------------------------------------------------------------------------------------------------------------------------------------------------------------------------------------------------------------------------------------------------------------------------------------------------------------------------------------------------------------------------------------------------------------------------------------------------------------------------------------------------------------------------------------------------------------------------------------------------------------------------------------------------------------------------------------------------------------------------------------------------------------------------------------------------------------+-----------+\n",
            "|No guardian angelI met my partner back in 2012. I was suicidal and self-harmed. They pulled me out of the hellhole and I hadn’t cut for 6 years... until tonight.\\nThey recently “realised” they were trans and I have no idea how to deal with it. The new them is just too different and I cannot seek comfort in them anymore. I try to be supportive and encouraging, but it’s just too hard, too many uncertainties, too much fear. It’s taking a toll on our relationship.\\nWe had an argument because I’d mentioned a characteristic that makes them harder to “pass” a few too many times I guess, and we went to sleep in silence and not in an embrace as is normal. \\nPlease someone tell me this is just a bad dream. Please tell me that the last 7 years with the love of my life haven’t been a lie.                                                                                                                                                                                                                                                                                                                                                                                                                                                                                                                                                                                                                                                                                                                                                                                                                                                                                                                                         |suicide    |\n",
            "|i'm losing all hope. it's not getting better. quarantine has ruined my life.i didn't have friends to begin with but this period of quarantine is making it worse. at the beginning, i was dating someone who didn't give a fuck about me. and only talked to me when he was horny or no one else was around. i had \"friends\" but i only mattered to them when they needed something. i cut everyone off. making online friends has been a dead end. people want to pity and infantilize me and it makes me feel worse. i can manage myself just fine. i'm just fucking lonely and i'm tired of doing the same things over and over. i don't have the energy to care about politics rn because i'm too privileged for people in power to even pretend to care about my issues. i feel guilty for even complaining because others have it much worse than i do, so what right do i have to feel as hopeless as i do? i even feel bad for saying i'm tired of hearing about politics constantly. i feel bad for admitting i don't have the energy for it. i'm fucking drained. \\n\\ni'm so tired of it. i keep forcing myself to be productive just so that i don't feel entirely worthless. i sit in my room reading, drawing, studying, writing for hours on end; but when that's all over, what meaning does it hold in the end? i'm losing my grip on things that i shouldn't be. nothing is giving me hope anymore. this situation will only get worse. i keep fighting with myself to stay productive but it means nothing. i'm sick of the same thing day in and day out. this is giving me too much time alone with my mind and now, i'm in the worst mental space i've been in for a long time. i never thought i'd be this close to rock bottom again.|suicide    |\n",
            "|The thotery is increasing The skirt trend made things worse                                                                                                                                                                                                                                                                                                                                                                                                                                                                                                                                                                                                                                                                                                                                                                                                                                                                                                                                                                                                                                                                                                                                                                                                                                                                                                                                                                                                                                                                                                                                                                                                                                                                                                 |non-suicide|\n",
            "|Every time we age Our parents rage also ages                                                                                                                                                                                                                                                                                                                                                                                                                                                                                                                                                                                                                                                                                                                                                                                                                                                                                                                                                                                                                                                                                                                                                                                                                                                                                                                                                                                                                                                                                                                                                                                                                                                                                                                |non-suicide|\n",
            "|My friend is suicidal and I'm afraidMy friend has been depressed for years. I have tried to help them and always be there for them, but it just got too hard on me. After many scary encounters and messages from this person, I began to fear for my own well-being. \\n\\nNow my friend is showing all the signs of someone with mental illness. I don't want to be the person that has to intervene but nobody else seems to notice.\\n\\nI don't know what to do.                                                                                                                                                                                                                                                                                                                                                                                                                                                                                                                                                                                                                                                                                                                                                                                                                                                                                                                                                                                                                                                                                                                                                                                                                                                                                           |suicide    |\n",
            "+------------------------------------------------------------------------------------------------------------------------------------------------------------------------------------------------------------------------------------------------------------------------------------------------------------------------------------------------------------------------------------------------------------------------------------------------------------------------------------------------------------------------------------------------------------------------------------------------------------------------------------------------------------------------------------------------------------------------------------------------------------------------------------------------------------------------------------------------------------------------------------------------------------------------------------------------------------------------------------------------------------------------------------------------------------------------------------------------------------------------------------------------------------------------------------------------------------------------------------------------------------------------------------------------------------------------------------------------------------------------------------------------------------------------------------------------------------------------------------------------------------------------------------------------------------------------------------------------------------------------------------------------------------------------------------------------------------------------------------------------------------+-----------+\n",
            "only showing top 5 rows\n",
            "\n"
          ]
        }
      ],
      "source": [
        "from pyspark.sql import SparkSession\n",
        "from pyspark.sql.types import StructType, StructField, StringType\n",
        "\n",
        "# Start session\n",
        "spark = SparkSession.builder.appName(\"FixCSVLoad\").getOrCreate()\n",
        "\n",
        "# Define proper schema\n",
        "schema = StructType([\n",
        "    StructField(\"text\", StringType(), True),\n",
        "    StructField(\"label\", StringType(), True)\n",
        "])\n",
        "\n",
        "# Read the CSV properly\n",
        "train_df = spark.read.option(\"header\", True) \\\n",
        "    .option(\"multiLine\", True) \\\n",
        "    .option(\"quote\", '\"') \\\n",
        "    .option(\"escape\", '\"') \\\n",
        "    .schema(schema) \\\n",
        "    .csv(\"/content/drive/MyDrive/final_train.csv\")\n",
        "\n",
        "# Check first few rows and schema\n",
        "train_df.printSchema()\n",
        "train_df.show(5, truncate=False)\n"
      ]
    },
    {
      "cell_type": "code",
      "execution_count": null,
      "metadata": {
        "colab": {
          "base_uri": "https://localhost:8080/"
        },
        "id": "sfIw-zfRyD4i",
        "outputId": "7d96c867-f7f2-4ada-a117-82d6488117ec"
      },
      "outputs": [
        {
          "output_type": "stream",
          "name": "stdout",
          "text": [
            "+-----------+\n",
            "|label      |\n",
            "+-----------+\n",
            "|suicide    |\n",
            "|non-suicide|\n",
            "+-----------+\n",
            "\n"
          ]
        }
      ],
      "source": [
        "train_df.select(\"label\").distinct().show(truncate=False)\n"
      ]
    },
    {
      "cell_type": "markdown",
      "metadata": {
        "id": "6XxJAe2S0m-r"
      },
      "source": [
        "Preprocesing"
      ]
    },
    {
      "cell_type": "code",
      "execution_count": null,
      "metadata": {
        "id": "1KOqEZfL0pn2"
      },
      "outputs": [],
      "source": [
        "from pyspark.sql import SparkSession\n",
        "from pyspark.sql.functions import col, lower, regexp_replace, when\n",
        "from pyspark.ml.feature import Tokenizer, StopWordsRemover, HashingTF, IDF\n",
        "from pyspark.ml.classification import RandomForestClassifier\n",
        "from pyspark.ml import Pipeline\n",
        "\n",
        "# 3. Drop null values\n",
        "train_df = train_df.dropna(subset=[\"text\", \"label\"])\n",
        "\n",
        "# 4. Convert labels to binary\n",
        "train_df = train_df.withColumn(\"label\", when(col(\"label\") == \"suicide\", 1).otherwise(0))\n",
        "\n",
        "# 5. Clean the text\n",
        "train_df = train_df.withColumn(\"text\", lower(col(\"text\")))\n",
        "train_df = train_df.withColumn(\"text\", regexp_replace(\"text\", \"[^a-z\\\\s]\", \"\"))\n"
      ]
    },
    {
      "cell_type": "code",
      "execution_count": null,
      "metadata": {
        "colab": {
          "base_uri": "https://localhost:8080/"
        },
        "id": "hVLFdmLY1p1A",
        "outputId": "f0380c0c-64a9-4449-8370-38057221d57d"
      },
      "outputs": [
        {
          "output_type": "stream",
          "name": "stdout",
          "text": [
            "+-----+-----+\n",
            "|label|count|\n",
            "+-----+-----+\n",
            "|1    |81226|\n",
            "|0    |81225|\n",
            "+-----+-----+\n",
            "\n"
          ]
        }
      ],
      "source": [
        "train_df.groupBy(\"label\").count().show(truncate=False)\n"
      ]
    },
    {
      "cell_type": "markdown",
      "source": [
        "Random Forest"
      ],
      "metadata": {
        "id": "eezjylGT6Fwn"
      }
    },
    {
      "cell_type": "code",
      "execution_count": null,
      "metadata": {
        "colab": {
          "base_uri": "https://localhost:8080/"
        },
        "id": "j9F8uvXn1qFH",
        "outputId": "a1ff908a-65d6-4ab6-9002-4b9f5c81b955"
      },
      "outputs": [
        {
          "name": "stdout",
          "output_type": "stream",
          "text": [
            "Random Forest pipeline trained and saved successfully!\n"
          ]
        }
      ],
      "source": [
        "\n",
        "# 6. Define the stages of the pipeline\n",
        "tokenizer = Tokenizer(inputCol=\"text\", outputCol=\"words\")\n",
        "remover = StopWordsRemover(inputCol=\"words\", outputCol=\"filtered_words\")\n",
        "hashingTF = HashingTF(inputCol=\"filtered_words\", outputCol=\"raw_features\", numFeatures=10000)\n",
        "idf = IDF(inputCol=\"raw_features\", outputCol=\"features\")\n",
        "\n",
        "# 7. Random Forest Classifier\n",
        "rf = RandomForestClassifier(featuresCol=\"features\", labelCol=\"label\", numTrees=200, maxDepth=10)\n",
        "\n",
        "# 8. Build the pipeline\n",
        "pipeline_rf = Pipeline(stages=[tokenizer, remover, hashingTF, idf, rf])\n",
        "\n",
        "# 9. Train the model\n",
        "model_rf = pipeline_rf.fit(train_df)\n",
        "\n",
        "# 10. Save the trained model\n",
        "model_rf.write().overwrite().save(\"/content/drive/MyDrive/pipeline_rf_model_final\")\n",
        "\n",
        "print(\"Random Forest pipeline trained and saved successfully!\")\n"
      ]
    },
    {
      "cell_type": "code",
      "execution_count": null,
      "metadata": {
        "colab": {
          "base_uri": "https://localhost:8080/"
        },
        "id": "dK4qi1eT8Xc_",
        "outputId": "d64325d6-2902-4fed-b825-a716e243cfc2"
      },
      "outputs": [
        {
          "output_type": "stream",
          "name": "stdout",
          "text": [
            "root\n",
            " |-- text: string (nullable = true)\n",
            " |-- label: string (nullable = true)\n",
            "\n",
            "+-----------+\n",
            "|label      |\n",
            "+-----------+\n",
            "|suicide    |\n",
            "|non-suicide|\n",
            "+-----------+\n",
            "\n"
          ]
        }
      ],
      "source": [
        "from pyspark.sql import SparkSession\n",
        "from pyspark.sql.functions import col, lower, regexp_replace, when\n",
        "from pyspark.sql.types import StructType, StructField, StringType\n",
        "from pyspark.ml.feature import Tokenizer, StopWordsRemover, HashingTF, IDF\n",
        "\n",
        "# 1. Start Spark session\n",
        "#spark = SparkSession.builder.appName(\"LoadDevData\").getOrCreate()\n",
        "\n",
        "# 2. Define schema (same as train)\n",
        "schema = StructType([\n",
        "    StructField(\"text\", StringType(), True),\n",
        "    StructField(\"label\", StringType(), True)\n",
        "])\n",
        "\n",
        "# 3. Load the dev CSV properly\n",
        "dev_df = spark.read.option(\"header\", True) \\\n",
        "    .option(\"multiLine\", True) \\\n",
        "    .option(\"quote\", '\"') \\\n",
        "    .option(\"escape\", '\"') \\\n",
        "    .schema(schema) \\\n",
        "    .csv(\"/content/drive/MyDrive/final_dev.csv\")   # <-- replace with actual path if different\n",
        "\n",
        "# 4. Print schema and unique labels\n",
        "dev_df.printSchema()\n",
        "dev_df.select(\"label\").distinct().show(truncate=False)\n",
        "\n"
      ]
    },
    {
      "cell_type": "code",
      "execution_count": null,
      "metadata": {
        "colab": {
          "base_uri": "https://localhost:8080/"
        },
        "id": "RvokmPWp8pkK",
        "outputId": "ed3452c8-1f1a-4dd6-f644-f1ab6af24ecb"
      },
      "outputs": [
        {
          "output_type": "stream",
          "name": "stdout",
          "text": [
            "+-----+-----+\n",
            "|label|count|\n",
            "+-----+-----+\n",
            "|    1|17405|\n",
            "|    0|17406|\n",
            "+-----+-----+\n",
            "\n"
          ]
        }
      ],
      "source": [
        "# 5. Drop nulls\n",
        "dev_df = dev_df.dropna(subset=[\"text\", \"label\"])\n",
        "\n",
        "# 6. Convert labels to binary\n",
        "dev_df = dev_df.withColumn(\"label\", when(col(\"label\") == \"suicide\", 1).otherwise(0))\n",
        "\n",
        "# 7. Text cleaning\n",
        "dev_df = dev_df.withColumn(\"text\", lower(col(\"text\")))\n",
        "dev_df = dev_df.withColumn(\"text\", regexp_replace(\"text\", \"[^a-z\\\\s]\", \"\"))\n",
        "\n",
        "# 8. Confirm class balance after preprocessing\n",
        "dev_df.groupBy(\"label\").count().show()\n"
      ]
    },
    {
      "cell_type": "code",
      "execution_count": null,
      "metadata": {
        "colab": {
          "base_uri": "https://localhost:8080/"
        },
        "id": "0egclR6T9egQ",
        "outputId": "5468a551-c9e6-4d1a-f0ed-2b1ad6499291"
      },
      "outputs": [
        {
          "name": "stdout",
          "output_type": "stream",
          "text": [
            "+----------------------------------------------------------------------------------------------------------------------------------------------------------------------------------------------------------------------------------------------------------------------------------------------------------------------------------------------------------------------------------------------------------------------------------------------------------------------------------------------------------------------------------------------------------------------------------------------------------------------------------------------------------------------------------------------------------------------------------------------------------------------------------------------------------------------------------------------------------------------------------------------------------------------------------------------------------------------------------------------------------------------------------------------------------------------------------------------------------------------------------------------------------------------------------------------------------------------------------------------------------------------------------------------------------------------------------------------------------------------------------------------------------------------------------------------------------------------------------------------------------------------------------------------------------------------------------------------------------------------------------------------------------------------------------------------------------+-----+----------+\n",
            "|text                                                                                                                                                                                                                                                                                                                                                                                                                                                                                                                                                                                                                                                                                                                                                                                                                                                                                                                                                                                                                                                                                                                                                                                                                                                                                                                                                                                                                                                                                                                                                                                                                                                                                                      |label|prediction|\n",
            "+----------------------------------------------------------------------------------------------------------------------------------------------------------------------------------------------------------------------------------------------------------------------------------------------------------------------------------------------------------------------------------------------------------------------------------------------------------------------------------------------------------------------------------------------------------------------------------------------------------------------------------------------------------------------------------------------------------------------------------------------------------------------------------------------------------------------------------------------------------------------------------------------------------------------------------------------------------------------------------------------------------------------------------------------------------------------------------------------------------------------------------------------------------------------------------------------------------------------------------------------------------------------------------------------------------------------------------------------------------------------------------------------------------------------------------------------------------------------------------------------------------------------------------------------------------------------------------------------------------------------------------------------------------------------------------------------------------+-----+----------+\n",
            "|seriously considering suicideits the middle of the night and im drunk but i mean this\\neverything has gone wrong i really want to die but i have a family and friends\\ni keep thinking about walking out and killing myself but i cant even think of a way to do it and im scared that ill traumatise someone if they find me dead i definitely cant do it here in my house with my family\\ni feel like such a fucking hypocrite ive commented on peoples posts like this before with reasons to keep living but here i am ready to give up\\nthe girl i love is now my ex and she is pregnant with someone elses baby\\ni have a dead end bartending job\\ni have always had problems with depression but its just getting worse and i cant see a way out                                                                                                                                                                                                                                                                                                                                                                                                                                                                                                                                                                                                                                                                                                                                                                                                                                                                                                                                                   |1    |1.0       |\n",
            "|why tf is she still such a huge part of my life its liketheres this girl that rejected me and broke my heart  years ago and for the most part ive pretty much moved on all i really want now is to meet someone else and fall in love againthats all i want i dont even talk to this girl anymore which is kinda sad cause i miss her but i feel its probably better that i dont reach out to her but i still have sc streaks going with her and still follow her instagram pages and i still consider her a friend but the thing is i still occasionally think about her and occasionally i will go through brief periods of missing her and feeling slightly heartbroken again but they dont last long a few days at most but the thing is even when im not in those periods its like she still influences me and my decisions and my life in so many ways most of my insecurities and feelings and decisions regarding my appearance r influenced by knowing im not attractive to her and trying to do things especially with like my hair that might seem better looking to her even tho ik shes just never gonna change her mind about me and like i said i just want to meet someone new at this point and its like i still think about her a lot and its like idk why like am i just always gonna remember this girl like why does she still continue to have this much of an effect on me after all this time and even tho ive pretty much moved on\\n\\nidk im just rambling and dont even know how to describe what im feeling or even where i was going with this                                                                                                                                |0    |1.0       |\n",
            "|i keep having dreams about my old friends i dont know why this keeps happening but here are my two most memorable ones in my first dream i was walking down the hallway of my school and i notice one of my old friends i stopped and said hi in disbelief we started walking together and then i see another of my friends this happens a couple more times until were all just one big entourage whats weird is that my brain managed to picture them as if they were in high school  and i have no idea how it did that considering i havent seen them since th grade it was honestly one of my happiest dreams the second one is pretty consistent its usually about this one girl who i think had a crush on me and i probably had a crush on her and she moved to my school my dream would always be me trying to talk to her or get her attention to see if she remembers me but im always too shy to say something \\n\\nthanks for reading if you actually did im assuming these dreams mean i actually miss my old friends and i regret not keeping in contact with any of them so i guess the moral of the story is to not let go of the people you care about thank you for listening to my ted talk                                                                                                                                                                                                                                                                                                                                                                                                                                                                                            |0    |1.0       |\n",
            "|i am close to ending it all how should it be donei have become a useless person and everyone seems to think so too no one is here for me anymore i still have friends but they all seem like strangers to me now i have been friends with all of them for around  years now we have spent everyday of highschool together and as a group a bunch of kids just wanting to have fun\\n\\ni think ive given up on people because of what ive been subjected to im not going to say ive been through the worse there is but whats the point in comparing hardships im living a rough fucking life and i dont want to keep going no one takes my pain seriously because im too put together and that ill get over it i refuse to put up with it any longer\\n\\nhow should i kill myself ive thought about hanging but i dont have an actual place to do it ive thought about throwing myself off the balconey of the apartment i live in but what if i survive theyll just keep me alive i cant get my hands on a gun either                                                                                                                                                                                                                                                                                                                                                                                                                                                                                                                                                                                                                                                                                      |1    |1.0       |\n",
            "|i dont get iti am not even very sad right now but the want is still there and i hate it i dont think ill ever have someone im open with again                                                                                                                                                                                                                                                                                                                                                                                                                                                                                                                                                                                                                                                                                                                                                                                                                                                                                                                                                                                                                                                                                                                                                                                                                                                                                                                                                                                                                                                                                                                                                             |1    |0.0       |\n",
            "|im so aloneeven when im around people i feel alone  i used to be scared of death but now i just apathetic and empty all the time ive had my heart crushed so hard and so many times im convinced that no one would ever want a relationship with me and if they do they leave because of how messed up and depressed i am ill likely be alone forever at this point because im already  and i have no one that could even remotely be a possibility to date and im horrible at meeting people the only people who seem to like me are guys that prey on my insecurities and end up breaking my heart to pieces people tell me that im pretty and ill find someone one day but pretty means nothing if you dont have the personality to back it up \\n\\nmost of my friends have become distant from me someone i was involved with said he wanted to stay friends and hang out but hasnt really ever made an effort so i kind of lost him as a friend another one of the people that helped me when i was really emotionally hurting said that he doesnt want to hang out with me anymore because he dowsnt want his girlfriend to get the wrong idea so hes gone now\\n\\nthe only person im alive for is my sister but im so fucking alone even though i have her i feel bad because shell never never be the same but i know she has a boyfriend at least that will be there for her \\n\\npeople think im getting better but ive never been more alone in my life i dont care about anything anymore all of my goals ive given up and all of the things that used to make me happy dont anymore im completely dead inside i feel like im ready to just do it whenever no one cares about me and im giving up|1    |1.0       |\n",
            "|im waiting for my parents to die to end my lifei have those picture perfect parents who love me unconditionally and would do anything for me something many dont have so you would think then what could possibly be wrong \\n\\neverything but them but sometimes its not enough i first tried to kill myself when i was  im now  and diagnosed with a non curable chronic pain disease what was the point we all live with pain but im drowning in a sea of pain without any life jacket ive done the treatments the meds the numerous therapies offered but the only reason i cant follow through to end this pain because of them i saw the hurt in my parents eyes after waking up in that hospital that hurt i caused them for just a split second trumps all pain ive ever felt it hurts me even more that they gave me such an easy perfect life and all i want to do is end it they would sacrifice their own lives for me to live a pain free one no matter how much i dont want to get out of bed or no matter how much i just dont want to live this life anymore i will live yours as your daughter till the day you die \\n\\nto my mother and father im so sorry for feeling so hopeless when all you do is try to find endless ways to give me hope youve done everything for me the least i can do is save you from that suffering \\n                                                                                                                                                                                                                                                                                                                                                        |1    |1.0       |\n",
            "|i have a bottle where do i sign up to the suicide pacti think tonights it                                                                                                                                                                                                                                                                                                                                                                                                                                                                                                                                                                                                                                                                                                                                                                                                                                                                                                                                                                                                                                                                                                                                                                                                                                                                                                                                                                                                                                                                                                                                                                                                                                 |1    |0.0       |\n",
            "|do it now before its worsehere i am mid s a wife and two daughters i can barely provide for and i feel lost for it\\n\\ni thought about making an alt for this but no this deserves to be here my daughters are  years and  month old respectively and i think that if i end it maybe it wont hurt them since they are so young they wont know the disappointment that is thier bastard of a father and my wife could find someone better someone to support them i always stop myself what if it catches up though what if they are  and  and then i do it that would be so much worse i dont want them to know me i keep holding on i keep thinking that ill get better but i never do \\n\\ni could ramble forever but this isnt to sob i just think they could do better without me\\n\\njust watch                                                                                                                                                                                                                                                                                                                                                                                                                                                                                                                                                                                                                                                                                                                                                                                                                                                                                                         |1    |1.0       |\n",
            "|i have losti posted this on rdepression but this seems the better place to post it \\n  \\ndepression has beaten me ive been struggling for  years or so to varying degrees and i am too emotionally tired to fight it any more its impossibly tough\\n\\nim at the weird calm point ive only heard about or read about im not upset angry sad annoyed theres still no emotion except the confidence in my intentions\\n\\nno one will miss me no one will care everyone will be better off not having to remember i exist at all\\n\\ni know what i am going to do so its only a matter of hours till im dead and deservedly so im a lazy forgetful selfish piece of shit and dont deserve the time of day from anyone at all\\n\\nim not looking out for a reply of any kind just wanted to let the last of my thoughts out                                                                                                                                                                                                                                                                                                                                                                                                                                                                                                                                                                                                                                                                                                                                                                                                                                                                                       |1    |1.0       |\n",
            "+----------------------------------------------------------------------------------------------------------------------------------------------------------------------------------------------------------------------------------------------------------------------------------------------------------------------------------------------------------------------------------------------------------------------------------------------------------------------------------------------------------------------------------------------------------------------------------------------------------------------------------------------------------------------------------------------------------------------------------------------------------------------------------------------------------------------------------------------------------------------------------------------------------------------------------------------------------------------------------------------------------------------------------------------------------------------------------------------------------------------------------------------------------------------------------------------------------------------------------------------------------------------------------------------------------------------------------------------------------------------------------------------------------------------------------------------------------------------------------------------------------------------------------------------------------------------------------------------------------------------------------------------------------------------------------------------------------+-----+----------+\n",
            "only showing top 10 rows\n",
            "\n",
            "✅ Accuracy:  82.94%\n",
            "✅ Precision: 83.70%\n",
            "✅ Recall:    82.94%\n",
            "✅ F1 Score:  82.84%\n"
          ]
        }
      ],
      "source": [
        "from pyspark.ml import PipelineModel\n",
        "from pyspark.ml.evaluation import MulticlassClassificationEvaluator\n",
        "\n",
        "# 9. Load the saved Random Forest pipeline model\n",
        "loaded_rf_model = PipelineModel.load(\"/content/drive/MyDrive/pipeline_rf_model_final\")\n",
        "\n",
        "# 10. Run prediction on dev set\n",
        "predictions = loaded_rf_model.transform(dev_df)\n",
        "\n",
        "# 11. See some sample predictions\n",
        "predictions.select(\"text\", \"label\", \"prediction\").show(10, truncate=False)\n",
        "\n",
        "# 12. Evaluate with metrics\n",
        "evaluator_accuracy = MulticlassClassificationEvaluator(labelCol=\"label\", predictionCol=\"prediction\", metricName=\"accuracy\")\n",
        "evaluator_precision = MulticlassClassificationEvaluator(labelCol=\"label\", predictionCol=\"prediction\", metricName=\"weightedPrecision\")\n",
        "evaluator_recall = MulticlassClassificationEvaluator(labelCol=\"label\", predictionCol=\"prediction\", metricName=\"weightedRecall\")\n",
        "evaluator_f1 = MulticlassClassificationEvaluator(labelCol=\"label\", predictionCol=\"prediction\", metricName=\"f1\")\n",
        "\n",
        "accuracy = evaluator_accuracy.evaluate(predictions)\n",
        "precision = evaluator_precision.evaluate(predictions)\n",
        "recall = evaluator_recall.evaluate(predictions)\n",
        "f1 = evaluator_f1.evaluate(predictions)\n",
        "\n",
        "# 13. Display metrics\n",
        "print(f\"✅ Accuracy:  {accuracy * 100:.2f}%\")\n",
        "print(f\"✅ Precision: {precision * 100:.2f}%\")\n",
        "print(f\"✅ Recall:    {recall * 100:.2f}%\")\n",
        "print(f\"✅ F1 Score:  {f1 * 100:.2f}%\")\n"
      ]
    },
    {
      "cell_type": "markdown",
      "metadata": {
        "id": "bZ7Nj_8l_gc_"
      },
      "source": [
        "Bigram_RandomForest model"
      ]
    },
    {
      "cell_type": "code",
      "execution_count": null,
      "metadata": {
        "id": "7naLgXS8_hH2"
      },
      "outputs": [],
      "source": [
        "from pyspark.ml import Pipeline\n",
        "from pyspark.ml.feature import Tokenizer, StopWordsRemover, NGram, HashingTF, IDF\n",
        "from pyspark.ml.classification import RandomForestClassifier\n",
        "\n",
        "# Pipeline stages\n",
        "tokenizer = Tokenizer(inputCol=\"text\", outputCol=\"words\")\n",
        "remover = StopWordsRemover(inputCol=\"words\", outputCol=\"filtered_words\")\n",
        "bigrams = NGram(n=2, inputCol=\"filtered_words\", outputCol=\"bigrams\")\n",
        "hashingTF = HashingTF(inputCol=\"bigrams\", outputCol=\"raw_features\", numFeatures=20000)\n",
        "idf = IDF(inputCol=\"raw_features\", outputCol=\"features\")\n",
        "\n",
        "rf = RandomForestClassifier(featuresCol=\"features\", labelCol=\"label\", numTrees=200, maxDepth=10)\n",
        "\n",
        "pipeline_bigram_rf = Pipeline(stages=[tokenizer, remover, bigrams, hashingTF, idf, rf])\n"
      ]
    },
    {
      "cell_type": "code",
      "execution_count": null,
      "metadata": {
        "id": "EwaTF1VU_hKI"
      },
      "outputs": [],
      "source": [
        "model_bigram_rf = pipeline_bigram_rf.fit(train_df)\n",
        "model_bigram_rf.write().overwrite().save(\"/content/drive/MyDrive/pipeline_bigram_rf_model\")\n"
      ]
    },
    {
      "cell_type": "code",
      "execution_count": null,
      "metadata": {
        "id": "CPoBIrU9_hNl"
      },
      "outputs": [],
      "source": [
        "predictions = model_bigram_rf.transform(dev_df)\n"
      ]
    },
    {
      "cell_type": "code",
      "execution_count": null,
      "metadata": {
        "colab": {
          "base_uri": "https://localhost:8080/"
        },
        "id": "JhnhuplxH5x8",
        "outputId": "4665d3a3-4745-436a-8b04-697ed39220af"
      },
      "outputs": [
        {
          "name": "stdout",
          "output_type": "stream",
          "text": [
            "✅ Accuracy:  77.61%\n",
            "✅ Precision: 80.10%\n",
            "✅ Recall:    77.61%\n",
            "✅ F1 Score:  77.14%\n"
          ]
        }
      ],
      "source": [
        "# 9. Load the saved Random Forest pipeline model\n",
        "loaded_rf_model_bi = PipelineModel.load(\"/content/drive/MyDrive/pipeline_bigram_rf_model\")\n",
        "\n",
        "# 10. Run prediction on dev set\n",
        "predictions = loaded_rf_model_bi.transform(dev_df)\n",
        "\n",
        "evaluator = MulticlassClassificationEvaluator(labelCol=\"label\", predictionCol=\"prediction\", metricName=\"accuracy\")\n",
        "accuracy = evaluator.evaluate(predictions)\n",
        "\n",
        "precision = MulticlassClassificationEvaluator(labelCol=\"label\", predictionCol=\"prediction\", metricName=\"weightedPrecision\").evaluate(predictions)\n",
        "recall = MulticlassClassificationEvaluator(labelCol=\"label\", predictionCol=\"prediction\", metricName=\"weightedRecall\").evaluate(predictions)\n",
        "f1 = MulticlassClassificationEvaluator(labelCol=\"label\", predictionCol=\"prediction\", metricName=\"f1\").evaluate(predictions)\n",
        "\n",
        "print(f\"✅ Accuracy:  {accuracy * 100:.2f}%\")\n",
        "print(f\"✅ Precision: {precision * 100:.2f}%\")\n",
        "print(f\"✅ Recall:    {recall * 100:.2f}%\")\n",
        "print(f\"✅ F1 Score:  {f1 * 100:.2f}%\")"
      ]
    },
    {
      "cell_type": "code",
      "execution_count": null,
      "metadata": {
        "colab": {
          "base_uri": "https://localhost:8080/"
        },
        "id": "dmeaoHilKf2k",
        "outputId": "ffce8793-45d1-4035-8b3c-57492941dfe7"
      },
      "outputs": [
        {
          "name": "stdout",
          "output_type": "stream",
          "text": [
            "+-----+-----+\n",
            "|label|count|\n",
            "+-----+-----+\n",
            "|1    |81226|\n",
            "|0    |81225|\n",
            "+-----+-----+\n",
            "\n"
          ]
        }
      ],
      "source": [
        "train_df.groupBy(\"label\").count().show(truncate=False)\n"
      ]
    },
    {
      "cell_type": "markdown",
      "source": [
        "GBTClassifier model"
      ],
      "metadata": {
        "id": "JDQWr3c8s-_U"
      }
    },
    {
      "cell_type": "code",
      "execution_count": null,
      "metadata": {
        "colab": {
          "background_save": true
        },
        "id": "yBO7fzH_Jp0W",
        "outputId": "c16be9dd-efdb-4d6d-ab94-6aaefda6d88f"
      },
      "outputs": [
        {
          "name": "stdout",
          "output_type": "stream",
          "text": [
            "✅ GBTClassifier model trained and saved successfully.\n"
          ]
        }
      ],
      "source": [
        "from pyspark.sql import SparkSession\n",
        "from pyspark.sql.functions import col, lower, regexp_replace, when\n",
        "from pyspark.sql.types import StructType, StructField, StringType\n",
        "from pyspark.ml.feature import Tokenizer, StopWordsRemover, HashingTF, IDF\n",
        "from pyspark.ml.classification import GBTClassifier\n",
        "from pyspark.ml import Pipeline\n",
        "\n",
        "# 5. TF-IDF pipeline setup\n",
        "tokenizer = Tokenizer(inputCol=\"text\", outputCol=\"words\")\n",
        "remover = StopWordsRemover(inputCol=\"words\", outputCol=\"filtered_words\")\n",
        "hashingTF = HashingTF(inputCol=\"filtered_words\", outputCol=\"raw_features\", numFeatures=10000)\n",
        "idf = IDF(inputCol=\"raw_features\", outputCol=\"features\")\n",
        "\n",
        "# 6. GBTClassifier\n",
        "gbt = GBTClassifier(labelCol=\"label\", featuresCol=\"features\", maxIter=50, maxDepth=5)\n",
        "\n",
        "# 7. Full pipeline\n",
        "pipeline_gbt = Pipeline(stages=[tokenizer, remover, hashingTF, idf, gbt])\n",
        "\n",
        "# 8. Train\n",
        "model_gbt = pipeline_gbt.fit(train_df)\n",
        "\n",
        "# 9. Save model\n",
        "model_gbt.write().overwrite().save(\"/content/drive/MyDrive/pipeline_gbt_final\")\n",
        "\n",
        "print(\"✅ GBTClassifier model trained and saved successfully.\")"
      ]
    },
    {
      "cell_type": "code",
      "source": [
        "from pyspark.ml import PipelineModel\n",
        "from pyspark.ml.evaluation import MulticlassClassificationEvaluator\n",
        "\n",
        "# 9. Load the saved Random Forest pipeline model\n",
        "loaded_rf_model = PipelineModel.load(\"/content/drive/MyDrive/pipeline_gbt_final\")\n",
        "\n",
        "# 10. Run prediction on dev set\n",
        "predictions = loaded_rf_model.transform(dev_df)\n",
        "\n",
        "# 11. See some sample predictions\n",
        "predictions.select(\"text\", \"label\", \"prediction\").show(10, truncate=False)\n",
        "\n",
        "# 12. Evaluate with metrics\n",
        "evaluator_accuracy = MulticlassClassificationEvaluator(labelCol=\"label\", predictionCol=\"prediction\", metricName=\"accuracy\")\n",
        "evaluator_precision = MulticlassClassificationEvaluator(labelCol=\"label\", predictionCol=\"prediction\", metricName=\"weightedPrecision\")\n",
        "evaluator_recall = MulticlassClassificationEvaluator(labelCol=\"label\", predictionCol=\"prediction\", metricName=\"weightedRecall\")\n",
        "evaluator_f1 = MulticlassClassificationEvaluator(labelCol=\"label\", predictionCol=\"prediction\", metricName=\"f1\")\n",
        "\n",
        "accuracy = evaluator_accuracy.evaluate(predictions)\n",
        "precision = evaluator_precision.evaluate(predictions)\n",
        "recall = evaluator_recall.evaluate(predictions)\n",
        "f1 = evaluator_f1.evaluate(predictions)\n",
        "\n",
        "# 13. Display metrics\n",
        "print(f\"✅ Accuracy:  {accuracy * 100:.2f}%\")\n",
        "print(f\"✅ Precision: {precision * 100:.2f}%\")\n",
        "print(f\"✅ Recall:    {recall * 100:.2f}%\")\n",
        "print(f\"✅ F1 Score:  {f1 * 100:.2f}%\")\n"
      ],
      "metadata": {
        "colab": {
          "base_uri": "https://localhost:8080/"
        },
        "id": "0N9z3j8at7oL",
        "outputId": "21886089-17c2-4795-c9a0-ef80f21e335e"
      },
      "execution_count": null,
      "outputs": [
        {
          "output_type": "stream",
          "name": "stdout",
          "text": [
            "+----------------------------------------------------------------------------------------------------------------------------------------------------------------------------------------------------------------------------------------------------------------------------------------------------------------------------------------------------------------------------------------------------------------------------------------------------------------------------------------------------------------------------------------------------------------------------------------------------------------------------------------------------------------------------------------------------------------------------------------------------------------------------------------------------------------------------------------------------------------------------------------------------------------------------------------------------------------------------------------------------------------------------------------------------------------------------------------------------------------------------------------------------------------------------------------------------------------------------------------------------------------------------------------------------------------------------------------------------------------------------------------------------------------------------------------------------------------------------------------------------------------------------------------------------------------------------------------------------------------------------------------------------------------------------------------------------------+-----+----------+\n",
            "|text                                                                                                                                                                                                                                                                                                                                                                                                                                                                                                                                                                                                                                                                                                                                                                                                                                                                                                                                                                                                                                                                                                                                                                                                                                                                                                                                                                                                                                                                                                                                                                                                                                                                                                      |label|prediction|\n",
            "+----------------------------------------------------------------------------------------------------------------------------------------------------------------------------------------------------------------------------------------------------------------------------------------------------------------------------------------------------------------------------------------------------------------------------------------------------------------------------------------------------------------------------------------------------------------------------------------------------------------------------------------------------------------------------------------------------------------------------------------------------------------------------------------------------------------------------------------------------------------------------------------------------------------------------------------------------------------------------------------------------------------------------------------------------------------------------------------------------------------------------------------------------------------------------------------------------------------------------------------------------------------------------------------------------------------------------------------------------------------------------------------------------------------------------------------------------------------------------------------------------------------------------------------------------------------------------------------------------------------------------------------------------------------------------------------------------------+-----+----------+\n",
            "|seriously considering suicideits the middle of the night and im drunk but i mean this\\neverything has gone wrong i really want to die but i have a family and friends\\ni keep thinking about walking out and killing myself but i cant even think of a way to do it and im scared that ill traumatise someone if they find me dead i definitely cant do it here in my house with my family\\ni feel like such a fucking hypocrite ive commented on peoples posts like this before with reasons to keep living but here i am ready to give up\\nthe girl i love is now my ex and she is pregnant with someone elses baby\\ni have a dead end bartending job\\ni have always had problems with depression but its just getting worse and i cant see a way out                                                                                                                                                                                                                                                                                                                                                                                                                                                                                                                                                                                                                                                                                                                                                                                                                                                                                                                                                   |1    |1.0       |\n",
            "|why tf is she still such a huge part of my life its liketheres this girl that rejected me and broke my heart  years ago and for the most part ive pretty much moved on all i really want now is to meet someone else and fall in love againthats all i want i dont even talk to this girl anymore which is kinda sad cause i miss her but i feel its probably better that i dont reach out to her but i still have sc streaks going with her and still follow her instagram pages and i still consider her a friend but the thing is i still occasionally think about her and occasionally i will go through brief periods of missing her and feeling slightly heartbroken again but they dont last long a few days at most but the thing is even when im not in those periods its like she still influences me and my decisions and my life in so many ways most of my insecurities and feelings and decisions regarding my appearance r influenced by knowing im not attractive to her and trying to do things especially with like my hair that might seem better looking to her even tho ik shes just never gonna change her mind about me and like i said i just want to meet someone new at this point and its like i still think about her a lot and its like idk why like am i just always gonna remember this girl like why does she still continue to have this much of an effect on me after all this time and even tho ive pretty much moved on\\n\\nidk im just rambling and dont even know how to describe what im feeling or even where i was going with this                                                                                                                                |0    |1.0       |\n",
            "|i keep having dreams about my old friends i dont know why this keeps happening but here are my two most memorable ones in my first dream i was walking down the hallway of my school and i notice one of my old friends i stopped and said hi in disbelief we started walking together and then i see another of my friends this happens a couple more times until were all just one big entourage whats weird is that my brain managed to picture them as if they were in high school  and i have no idea how it did that considering i havent seen them since th grade it was honestly one of my happiest dreams the second one is pretty consistent its usually about this one girl who i think had a crush on me and i probably had a crush on her and she moved to my school my dream would always be me trying to talk to her or get her attention to see if she remembers me but im always too shy to say something \\n\\nthanks for reading if you actually did im assuming these dreams mean i actually miss my old friends and i regret not keeping in contact with any of them so i guess the moral of the story is to not let go of the people you care about thank you for listening to my ted talk                                                                                                                                                                                                                                                                                                                                                                                                                                                                                            |0    |0.0       |\n",
            "|i am close to ending it all how should it be donei have become a useless person and everyone seems to think so too no one is here for me anymore i still have friends but they all seem like strangers to me now i have been friends with all of them for around  years now we have spent everyday of highschool together and as a group a bunch of kids just wanting to have fun\\n\\ni think ive given up on people because of what ive been subjected to im not going to say ive been through the worse there is but whats the point in comparing hardships im living a rough fucking life and i dont want to keep going no one takes my pain seriously because im too put together and that ill get over it i refuse to put up with it any longer\\n\\nhow should i kill myself ive thought about hanging but i dont have an actual place to do it ive thought about throwing myself off the balconey of the apartment i live in but what if i survive theyll just keep me alive i cant get my hands on a gun either                                                                                                                                                                                                                                                                                                                                                                                                                                                                                                                                                                                                                                                                                      |1    |1.0       |\n",
            "|i dont get iti am not even very sad right now but the want is still there and i hate it i dont think ill ever have someone im open with again                                                                                                                                                                                                                                                                                                                                                                                                                                                                                                                                                                                                                                                                                                                                                                                                                                                                                                                                                                                                                                                                                                                                                                                                                                                                                                                                                                                                                                                                                                                                                             |1    |0.0       |\n",
            "|im so aloneeven when im around people i feel alone  i used to be scared of death but now i just apathetic and empty all the time ive had my heart crushed so hard and so many times im convinced that no one would ever want a relationship with me and if they do they leave because of how messed up and depressed i am ill likely be alone forever at this point because im already  and i have no one that could even remotely be a possibility to date and im horrible at meeting people the only people who seem to like me are guys that prey on my insecurities and end up breaking my heart to pieces people tell me that im pretty and ill find someone one day but pretty means nothing if you dont have the personality to back it up \\n\\nmost of my friends have become distant from me someone i was involved with said he wanted to stay friends and hang out but hasnt really ever made an effort so i kind of lost him as a friend another one of the people that helped me when i was really emotionally hurting said that he doesnt want to hang out with me anymore because he dowsnt want his girlfriend to get the wrong idea so hes gone now\\n\\nthe only person im alive for is my sister but im so fucking alone even though i have her i feel bad because shell never never be the same but i know she has a boyfriend at least that will be there for her \\n\\npeople think im getting better but ive never been more alone in my life i dont care about anything anymore all of my goals ive given up and all of the things that used to make me happy dont anymore im completely dead inside i feel like im ready to just do it whenever no one cares about me and im giving up|1    |1.0       |\n",
            "|im waiting for my parents to die to end my lifei have those picture perfect parents who love me unconditionally and would do anything for me something many dont have so you would think then what could possibly be wrong \\n\\neverything but them but sometimes its not enough i first tried to kill myself when i was  im now  and diagnosed with a non curable chronic pain disease what was the point we all live with pain but im drowning in a sea of pain without any life jacket ive done the treatments the meds the numerous therapies offered but the only reason i cant follow through to end this pain because of them i saw the hurt in my parents eyes after waking up in that hospital that hurt i caused them for just a split second trumps all pain ive ever felt it hurts me even more that they gave me such an easy perfect life and all i want to do is end it they would sacrifice their own lives for me to live a pain free one no matter how much i dont want to get out of bed or no matter how much i just dont want to live this life anymore i will live yours as your daughter till the day you die \\n\\nto my mother and father im so sorry for feeling so hopeless when all you do is try to find endless ways to give me hope youve done everything for me the least i can do is save you from that suffering \\n                                                                                                                                                                                                                                                                                                                                                        |1    |1.0       |\n",
            "|i have a bottle where do i sign up to the suicide pacti think tonights it                                                                                                                                                                                                                                                                                                                                                                                                                                                                                                                                                                                                                                                                                                                                                                                                                                                                                                                                                                                                                                                                                                                                                                                                                                                                                                                                                                                                                                                                                                                                                                                                                                 |1    |1.0       |\n",
            "|do it now before its worsehere i am mid s a wife and two daughters i can barely provide for and i feel lost for it\\n\\ni thought about making an alt for this but no this deserves to be here my daughters are  years and  month old respectively and i think that if i end it maybe it wont hurt them since they are so young they wont know the disappointment that is thier bastard of a father and my wife could find someone better someone to support them i always stop myself what if it catches up though what if they are  and  and then i do it that would be so much worse i dont want them to know me i keep holding on i keep thinking that ill get better but i never do \\n\\ni could ramble forever but this isnt to sob i just think they could do better without me\\n\\njust watch                                                                                                                                                                                                                                                                                                                                                                                                                                                                                                                                                                                                                                                                                                                                                                                                                                                                                                         |1    |1.0       |\n",
            "|i have losti posted this on rdepression but this seems the better place to post it \\n  \\ndepression has beaten me ive been struggling for  years or so to varying degrees and i am too emotionally tired to fight it any more its impossibly tough\\n\\nim at the weird calm point ive only heard about or read about im not upset angry sad annoyed theres still no emotion except the confidence in my intentions\\n\\nno one will miss me no one will care everyone will be better off not having to remember i exist at all\\n\\ni know what i am going to do so its only a matter of hours till im dead and deservedly so im a lazy forgetful selfish piece of shit and dont deserve the time of day from anyone at all\\n\\nim not looking out for a reply of any kind just wanted to let the last of my thoughts out                                                                                                                                                                                                                                                                                                                                                                                                                                                                                                                                                                                                                                                                                                                                                                                                                                                                                       |1    |1.0       |\n",
            "+----------------------------------------------------------------------------------------------------------------------------------------------------------------------------------------------------------------------------------------------------------------------------------------------------------------------------------------------------------------------------------------------------------------------------------------------------------------------------------------------------------------------------------------------------------------------------------------------------------------------------------------------------------------------------------------------------------------------------------------------------------------------------------------------------------------------------------------------------------------------------------------------------------------------------------------------------------------------------------------------------------------------------------------------------------------------------------------------------------------------------------------------------------------------------------------------------------------------------------------------------------------------------------------------------------------------------------------------------------------------------------------------------------------------------------------------------------------------------------------------------------------------------------------------------------------------------------------------------------------------------------------------------------------------------------------------------------+-----+----------+\n",
            "only showing top 10 rows\n",
            "\n",
            "✅ Accuracy:  86.98%\n",
            "✅ Precision: 87.16%\n",
            "✅ Recall:    86.98%\n",
            "✅ F1 Score:  86.97%\n"
          ]
        }
      ]
    },
    {
      "cell_type": "markdown",
      "source": [
        "optimise GBTClassifier model"
      ],
      "metadata": {
        "id": "41czu1CMu-lz"
      }
    },
    {
      "cell_type": "code",
      "source": [
        "from pyspark.sql import SparkSession\n",
        "from pyspark.sql.functions import col, lower, regexp_replace, when\n",
        "from pyspark.sql.types import StructType, StructField, StringType\n",
        "from pyspark.ml.feature import Tokenizer, StopWordsRemover, CountVectorizer, IDF\n",
        "from pyspark.ml.classification import GBTClassifier\n",
        "from pyspark.ml import Pipeline\n",
        "\n",
        "# Feature extraction\n",
        "tokenizer = Tokenizer(inputCol=\"text\", outputCol=\"words\")\n",
        "remover = StopWordsRemover(inputCol=\"words\", outputCol=\"filtered_words\")\n",
        "vectorizer = CountVectorizer(inputCol=\"filtered_words\", outputCol=\"raw_features\", vocabSize=5000, minDF=5)\n",
        "idf = IDF(inputCol=\"raw_features\", outputCol=\"features\")\n",
        "\n",
        "# GBTClassifier with optimized params\n",
        "gbt = GBTClassifier(featuresCol=\"features\", labelCol=\"label\", maxIter=20, maxDepth=4)\n",
        "\n",
        "# Build pipeline\n",
        "pipeline_gbt = Pipeline(stages=[tokenizer, remover, vectorizer, idf, gbt])\n",
        "\n",
        "# Train model\n",
        "model_gbt = pipeline_gbt.fit(train_df)\n",
        "\n",
        "# Save model\n",
        "model_gbt.write().overwrite().save(\"/content/drive/MyDrive/pipeline_gbt_optimized\")\n",
        "\n",
        "print(\"✅ GBTClassifier (optimized) trained and saved.\")\n"
      ],
      "metadata": {
        "colab": {
          "base_uri": "https://localhost:8080/"
        },
        "id": "Euot68yjuilp",
        "outputId": "bc87a0ab-79a8-4c34-b933-f05562dbca8f"
      },
      "execution_count": null,
      "outputs": [
        {
          "output_type": "stream",
          "name": "stdout",
          "text": [
            "✅ GBTClassifier (optimized) trained and saved.\n"
          ]
        }
      ]
    },
    {
      "cell_type": "code",
      "source": [
        "from pyspark.ml import PipelineModel\n",
        "from pyspark.ml.evaluation import MulticlassClassificationEvaluator\n",
        "\n",
        "# 9. Load the saved Random Forest pipeline model\n",
        "loaded_rf_model = PipelineModel.load(\"/content/drive/MyDrive/pipeline_gbt_optimized\")\n",
        "\n",
        "# 10. Run prediction on dev set\n",
        "predictions = loaded_rf_model.transform(dev_df)\n",
        "\n",
        "# 11. See some sample predictions\n",
        "predictions.select(\"text\", \"label\", \"prediction\").show(10, truncate=False)\n",
        "\n",
        "# 12. Evaluate with metrics\n",
        "evaluator_accuracy = MulticlassClassificationEvaluator(labelCol=\"label\", predictionCol=\"prediction\", metricName=\"accuracy\")\n",
        "evaluator_precision = MulticlassClassificationEvaluator(labelCol=\"label\", predictionCol=\"prediction\", metricName=\"weightedPrecision\")\n",
        "evaluator_recall = MulticlassClassificationEvaluator(labelCol=\"label\", predictionCol=\"prediction\", metricName=\"weightedRecall\")\n",
        "evaluator_f1 = MulticlassClassificationEvaluator(labelCol=\"label\", predictionCol=\"prediction\", metricName=\"f1\")\n",
        "\n",
        "accuracy = evaluator_accuracy.evaluate(predictions)\n",
        "precision = evaluator_precision.evaluate(predictions)\n",
        "recall = evaluator_recall.evaluate(predictions)\n",
        "f1 = evaluator_f1.evaluate(predictions)\n",
        "\n",
        "# ✅ 13. Display metrics\n",
        "print(f\"✅ Accuracy:  {accuracy * 100:.2f}%\")\n",
        "print(f\"✅ Precision: {precision * 100:.2f}%\")\n",
        "print(f\"✅ Recall:    {recall * 100:.2f}%\")\n",
        "print(f\"✅ F1 Score:  {f1 * 100:.2f}%\")\n"
      ],
      "metadata": {
        "colab": {
          "base_uri": "https://localhost:8080/"
        },
        "id": "OREjqeRc33S0",
        "outputId": "2bcd1507-9859-4f26-a6e8-1b63d3c29266"
      },
      "execution_count": null,
      "outputs": [
        {
          "output_type": "stream",
          "name": "stdout",
          "text": [
            "+----------------------------------------------------------------------------------------------------------------------------------------------------------------------------------------------------------------------------------------------------------------------------------------------------------------------------------------------------------------------------------------------------------------------------------------------------------------------------------------------------------------------------------------------------------------------------------------------------------------------------------------------------------------------------------------------------------------------------------------------------------------------------------------------------------------------------------------------------------------------------------------------------------------------------------------------------------------------------------------------------------------------------------------------------------------------------------------------------------------------------------------------------------------------------------------------------------------------------------------------------------------------------------------------------------------------------------------------------------------------------------------------------------------------------------------------------------------------------------------------------------------------------------------------------------------------------------------------------------------------------------------------------------------------------------------------------------+-----+----------+\n",
            "|text                                                                                                                                                                                                                                                                                                                                                                                                                                                                                                                                                                                                                                                                                                                                                                                                                                                                                                                                                                                                                                                                                                                                                                                                                                                                                                                                                                                                                                                                                                                                                                                                                                                                                                      |label|prediction|\n",
            "+----------------------------------------------------------------------------------------------------------------------------------------------------------------------------------------------------------------------------------------------------------------------------------------------------------------------------------------------------------------------------------------------------------------------------------------------------------------------------------------------------------------------------------------------------------------------------------------------------------------------------------------------------------------------------------------------------------------------------------------------------------------------------------------------------------------------------------------------------------------------------------------------------------------------------------------------------------------------------------------------------------------------------------------------------------------------------------------------------------------------------------------------------------------------------------------------------------------------------------------------------------------------------------------------------------------------------------------------------------------------------------------------------------------------------------------------------------------------------------------------------------------------------------------------------------------------------------------------------------------------------------------------------------------------------------------------------------+-----+----------+\n",
            "|seriously considering suicideits the middle of the night and im drunk but i mean this\\neverything has gone wrong i really want to die but i have a family and friends\\ni keep thinking about walking out and killing myself but i cant even think of a way to do it and im scared that ill traumatise someone if they find me dead i definitely cant do it here in my house with my family\\ni feel like such a fucking hypocrite ive commented on peoples posts like this before with reasons to keep living but here i am ready to give up\\nthe girl i love is now my ex and she is pregnant with someone elses baby\\ni have a dead end bartending job\\ni have always had problems with depression but its just getting worse and i cant see a way out                                                                                                                                                                                                                                                                                                                                                                                                                                                                                                                                                                                                                                                                                                                                                                                                                                                                                                                                                   |1    |1.0       |\n",
            "|why tf is she still such a huge part of my life its liketheres this girl that rejected me and broke my heart  years ago and for the most part ive pretty much moved on all i really want now is to meet someone else and fall in love againthats all i want i dont even talk to this girl anymore which is kinda sad cause i miss her but i feel its probably better that i dont reach out to her but i still have sc streaks going with her and still follow her instagram pages and i still consider her a friend but the thing is i still occasionally think about her and occasionally i will go through brief periods of missing her and feeling slightly heartbroken again but they dont last long a few days at most but the thing is even when im not in those periods its like she still influences me and my decisions and my life in so many ways most of my insecurities and feelings and decisions regarding my appearance r influenced by knowing im not attractive to her and trying to do things especially with like my hair that might seem better looking to her even tho ik shes just never gonna change her mind about me and like i said i just want to meet someone new at this point and its like i still think about her a lot and its like idk why like am i just always gonna remember this girl like why does she still continue to have this much of an effect on me after all this time and even tho ive pretty much moved on\\n\\nidk im just rambling and dont even know how to describe what im feeling or even where i was going with this                                                                                                                                |0    |1.0       |\n",
            "|i keep having dreams about my old friends i dont know why this keeps happening but here are my two most memorable ones in my first dream i was walking down the hallway of my school and i notice one of my old friends i stopped and said hi in disbelief we started walking together and then i see another of my friends this happens a couple more times until were all just one big entourage whats weird is that my brain managed to picture them as if they were in high school  and i have no idea how it did that considering i havent seen them since th grade it was honestly one of my happiest dreams the second one is pretty consistent its usually about this one girl who i think had a crush on me and i probably had a crush on her and she moved to my school my dream would always be me trying to talk to her or get her attention to see if she remembers me but im always too shy to say something \\n\\nthanks for reading if you actually did im assuming these dreams mean i actually miss my old friends and i regret not keeping in contact with any of them so i guess the moral of the story is to not let go of the people you care about thank you for listening to my ted talk                                                                                                                                                                                                                                                                                                                                                                                                                                                                                            |0    |0.0       |\n",
            "|i am close to ending it all how should it be donei have become a useless person and everyone seems to think so too no one is here for me anymore i still have friends but they all seem like strangers to me now i have been friends with all of them for around  years now we have spent everyday of highschool together and as a group a bunch of kids just wanting to have fun\\n\\ni think ive given up on people because of what ive been subjected to im not going to say ive been through the worse there is but whats the point in comparing hardships im living a rough fucking life and i dont want to keep going no one takes my pain seriously because im too put together and that ill get over it i refuse to put up with it any longer\\n\\nhow should i kill myself ive thought about hanging but i dont have an actual place to do it ive thought about throwing myself off the balconey of the apartment i live in but what if i survive theyll just keep me alive i cant get my hands on a gun either                                                                                                                                                                                                                                                                                                                                                                                                                                                                                                                                                                                                                                                                                      |1    |1.0       |\n",
            "|i dont get iti am not even very sad right now but the want is still there and i hate it i dont think ill ever have someone im open with again                                                                                                                                                                                                                                                                                                                                                                                                                                                                                                                                                                                                                                                                                                                                                                                                                                                                                                                                                                                                                                                                                                                                                                                                                                                                                                                                                                                                                                                                                                                                                             |1    |0.0       |\n",
            "|im so aloneeven when im around people i feel alone  i used to be scared of death but now i just apathetic and empty all the time ive had my heart crushed so hard and so many times im convinced that no one would ever want a relationship with me and if they do they leave because of how messed up and depressed i am ill likely be alone forever at this point because im already  and i have no one that could even remotely be a possibility to date and im horrible at meeting people the only people who seem to like me are guys that prey on my insecurities and end up breaking my heart to pieces people tell me that im pretty and ill find someone one day but pretty means nothing if you dont have the personality to back it up \\n\\nmost of my friends have become distant from me someone i was involved with said he wanted to stay friends and hang out but hasnt really ever made an effort so i kind of lost him as a friend another one of the people that helped me when i was really emotionally hurting said that he doesnt want to hang out with me anymore because he dowsnt want his girlfriend to get the wrong idea so hes gone now\\n\\nthe only person im alive for is my sister but im so fucking alone even though i have her i feel bad because shell never never be the same but i know she has a boyfriend at least that will be there for her \\n\\npeople think im getting better but ive never been more alone in my life i dont care about anything anymore all of my goals ive given up and all of the things that used to make me happy dont anymore im completely dead inside i feel like im ready to just do it whenever no one cares about me and im giving up|1    |1.0       |\n",
            "|im waiting for my parents to die to end my lifei have those picture perfect parents who love me unconditionally and would do anything for me something many dont have so you would think then what could possibly be wrong \\n\\neverything but them but sometimes its not enough i first tried to kill myself when i was  im now  and diagnosed with a non curable chronic pain disease what was the point we all live with pain but im drowning in a sea of pain without any life jacket ive done the treatments the meds the numerous therapies offered but the only reason i cant follow through to end this pain because of them i saw the hurt in my parents eyes after waking up in that hospital that hurt i caused them for just a split second trumps all pain ive ever felt it hurts me even more that they gave me such an easy perfect life and all i want to do is end it they would sacrifice their own lives for me to live a pain free one no matter how much i dont want to get out of bed or no matter how much i just dont want to live this life anymore i will live yours as your daughter till the day you die \\n\\nto my mother and father im so sorry for feeling so hopeless when all you do is try to find endless ways to give me hope youve done everything for me the least i can do is save you from that suffering \\n                                                                                                                                                                                                                                                                                                                                                        |1    |1.0       |\n",
            "|i have a bottle where do i sign up to the suicide pacti think tonights it                                                                                                                                                                                                                                                                                                                                                                                                                                                                                                                                                                                                                                                                                                                                                                                                                                                                                                                                                                                                                                                                                                                                                                                                                                                                                                                                                                                                                                                                                                                                                                                                                                 |1    |1.0       |\n",
            "|do it now before its worsehere i am mid s a wife and two daughters i can barely provide for and i feel lost for it\\n\\ni thought about making an alt for this but no this deserves to be here my daughters are  years and  month old respectively and i think that if i end it maybe it wont hurt them since they are so young they wont know the disappointment that is thier bastard of a father and my wife could find someone better someone to support them i always stop myself what if it catches up though what if they are  and  and then i do it that would be so much worse i dont want them to know me i keep holding on i keep thinking that ill get better but i never do \\n\\ni could ramble forever but this isnt to sob i just think they could do better without me\\n\\njust watch                                                                                                                                                                                                                                                                                                                                                                                                                                                                                                                                                                                                                                                                                                                                                                                                                                                                                                         |1    |1.0       |\n",
            "|i have losti posted this on rdepression but this seems the better place to post it \\n  \\ndepression has beaten me ive been struggling for  years or so to varying degrees and i am too emotionally tired to fight it any more its impossibly tough\\n\\nim at the weird calm point ive only heard about or read about im not upset angry sad annoyed theres still no emotion except the confidence in my intentions\\n\\nno one will miss me no one will care everyone will be better off not having to remember i exist at all\\n\\ni know what i am going to do so its only a matter of hours till im dead and deservedly so im a lazy forgetful selfish piece of shit and dont deserve the time of day from anyone at all\\n\\nim not looking out for a reply of any kind just wanted to let the last of my thoughts out                                                                                                                                                                                                                                                                                                                                                                                                                                                                                                                                                                                                                                                                                                                                                                                                                                                                                       |1    |0.0       |\n",
            "+----------------------------------------------------------------------------------------------------------------------------------------------------------------------------------------------------------------------------------------------------------------------------------------------------------------------------------------------------------------------------------------------------------------------------------------------------------------------------------------------------------------------------------------------------------------------------------------------------------------------------------------------------------------------------------------------------------------------------------------------------------------------------------------------------------------------------------------------------------------------------------------------------------------------------------------------------------------------------------------------------------------------------------------------------------------------------------------------------------------------------------------------------------------------------------------------------------------------------------------------------------------------------------------------------------------------------------------------------------------------------------------------------------------------------------------------------------------------------------------------------------------------------------------------------------------------------------------------------------------------------------------------------------------------------------------------------------+-----+----------+\n",
            "only showing top 10 rows\n",
            "\n",
            "✅ Accuracy:  85.52%\n",
            "✅ Precision: 85.87%\n",
            "✅ Recall:    85.52%\n",
            "✅ F1 Score:  85.49%\n"
          ]
        }
      ]
    },
    {
      "cell_type": "markdown",
      "source": [
        "Naive Bayes Model"
      ],
      "metadata": {
        "id": "cJpjlnsQ6BMo"
      }
    },
    {
      "cell_type": "code",
      "source": [
        "from pyspark.sql import SparkSession\n",
        "from pyspark.sql.functions import col, lower, regexp_replace, when\n",
        "from pyspark.sql.types import StructType, StructField, StringType\n",
        "from pyspark.ml.feature import Tokenizer, StopWordsRemover, CountVectorizer, IDF\n",
        "from pyspark.ml.classification import NaiveBayes\n",
        "from pyspark.ml import Pipeline"
      ],
      "metadata": {
        "id": "6ki_pS6w55lt"
      },
      "execution_count": null,
      "outputs": []
    },
    {
      "cell_type": "code",
      "source": [
        "tokenizer = Tokenizer(inputCol=\"text\", outputCol=\"words\")\n",
        "remover = StopWordsRemover(inputCol=\"words\", outputCol=\"filtered_words\")\n",
        "vectorizer = CountVectorizer(inputCol=\"filtered_words\", outputCol=\"raw_features\", vocabSize=5000, minDF=5)\n",
        "idf = IDF(inputCol=\"raw_features\", outputCol=\"features\")\n",
        "\n",
        "# 6. Naive Bayes Classifier (good for text classification)\n",
        "nb = NaiveBayes(labelCol=\"label\", featuresCol=\"features\", modelType=\"multinomial\")\n",
        "\n",
        "# 7. Build the pipeline\n",
        "pipeline_nb = Pipeline(stages=[tokenizer, remover, vectorizer, idf, nb])\n",
        "\n",
        "# 8. Train the model\n",
        "model_nb = pipeline_nb.fit(train_df)\n",
        "\n",
        "# 9. Save the model\n",
        "model_nb.write().overwrite().save(\"/content/drive/MyDrive/pipeline_nb_model\")\n",
        "\n",
        "print(\"✅ Naive Bayes pipeline trained and saved successfully!\")"
      ],
      "metadata": {
        "colab": {
          "base_uri": "https://localhost:8080/"
        },
        "id": "7lb78CId6LON",
        "outputId": "02b16a43-a7d1-4fbe-98fa-4c958de2dfa5"
      },
      "execution_count": null,
      "outputs": [
        {
          "output_type": "stream",
          "name": "stdout",
          "text": [
            "✅ Naive Bayes pipeline trained and saved successfully!\n"
          ]
        }
      ]
    },
    {
      "cell_type": "code",
      "source": [
        "# 9. Load the saved Random Forest pipeline model\n",
        "loaded_rf_model = PipelineModel.load(\"/content/drive/MyDrive/pipeline_nb_model\")\n",
        "\n",
        "# 10. Run prediction on dev set\n",
        "predictions = loaded_rf_model.transform(dev_df)\n",
        "\n",
        "# 11. See some sample predictions\n",
        "predictions.select(\"text\", \"label\", \"prediction\").show(10, truncate=False)\n",
        "\n",
        "# 12. Evaluate with metrics\n",
        "evaluator_accuracy = MulticlassClassificationEvaluator(labelCol=\"label\", predictionCol=\"prediction\", metricName=\"accuracy\")\n",
        "evaluator_precision = MulticlassClassificationEvaluator(labelCol=\"label\", predictionCol=\"prediction\", metricName=\"weightedPrecision\")\n",
        "evaluator_recall = MulticlassClassificationEvaluator(labelCol=\"label\", predictionCol=\"prediction\", metricName=\"weightedRecall\")\n",
        "evaluator_f1 = MulticlassClassificationEvaluator(labelCol=\"label\", predictionCol=\"prediction\", metricName=\"f1\")\n",
        "\n",
        "accuracy = evaluator_accuracy.evaluate(predictions)\n",
        "precision = evaluator_precision.evaluate(predictions)\n",
        "recall = evaluator_recall.evaluate(predictions)\n",
        "f1 = evaluator_f1.evaluate(predictions)\n",
        "\n",
        "# ✅ 13. Display metrics\n",
        "print(f\"✅ Accuracy:  {accuracy * 100:.2f}%\")\n",
        "print(f\"✅ Precision: {precision * 100:.2f}%\")\n",
        "print(f\"✅ Recall:    {recall * 100:.2f}%\")\n",
        "print(f\"✅ F1 Score:  {f1 * 100:.2f}%\")\n"
      ],
      "metadata": {
        "colab": {
          "base_uri": "https://localhost:8080/"
        },
        "id": "aTFBn6xQ7kt0",
        "outputId": "11d3d24c-5ddb-4663-9996-07a05b0db458"
      },
      "execution_count": null,
      "outputs": [
        {
          "output_type": "stream",
          "name": "stdout",
          "text": [
            "+----------------------------------------------------------------------------------------------------------------------------------------------------------------------------------------------------------------------------------------------------------------------------------------------------------------------------------------------------------------------------------------------------------------------------------------------------------------------------------------------------------------------------------------------------------------------------------------------------------------------------------------------------------------------------------------------------------------------------------------------------------------------------------------------------------------------------------------------------------------------------------------------------------------------------------------------------------------------------------------------------------------------------------------------------------------------------------------------------------------------------------------------------------------------------------------------------------------------------------------------------------------------------------------------------------------------------------------------------------------------------------------------------------------------------------------------------------------------------------------------------------------------------------------------------------------------------------------------------------------------------------------------------------------------------------------------------------+-----+----------+\n",
            "|text                                                                                                                                                                                                                                                                                                                                                                                                                                                                                                                                                                                                                                                                                                                                                                                                                                                                                                                                                                                                                                                                                                                                                                                                                                                                                                                                                                                                                                                                                                                                                                                                                                                                                                      |label|prediction|\n",
            "+----------------------------------------------------------------------------------------------------------------------------------------------------------------------------------------------------------------------------------------------------------------------------------------------------------------------------------------------------------------------------------------------------------------------------------------------------------------------------------------------------------------------------------------------------------------------------------------------------------------------------------------------------------------------------------------------------------------------------------------------------------------------------------------------------------------------------------------------------------------------------------------------------------------------------------------------------------------------------------------------------------------------------------------------------------------------------------------------------------------------------------------------------------------------------------------------------------------------------------------------------------------------------------------------------------------------------------------------------------------------------------------------------------------------------------------------------------------------------------------------------------------------------------------------------------------------------------------------------------------------------------------------------------------------------------------------------------+-----+----------+\n",
            "|seriously considering suicideits the middle of the night and im drunk but i mean this\\neverything has gone wrong i really want to die but i have a family and friends\\ni keep thinking about walking out and killing myself but i cant even think of a way to do it and im scared that ill traumatise someone if they find me dead i definitely cant do it here in my house with my family\\ni feel like such a fucking hypocrite ive commented on peoples posts like this before with reasons to keep living but here i am ready to give up\\nthe girl i love is now my ex and she is pregnant with someone elses baby\\ni have a dead end bartending job\\ni have always had problems with depression but its just getting worse and i cant see a way out                                                                                                                                                                                                                                                                                                                                                                                                                                                                                                                                                                                                                                                                                                                                                                                                                                                                                                                                                   |1    |1.0       |\n",
            "|why tf is she still such a huge part of my life its liketheres this girl that rejected me and broke my heart  years ago and for the most part ive pretty much moved on all i really want now is to meet someone else and fall in love againthats all i want i dont even talk to this girl anymore which is kinda sad cause i miss her but i feel its probably better that i dont reach out to her but i still have sc streaks going with her and still follow her instagram pages and i still consider her a friend but the thing is i still occasionally think about her and occasionally i will go through brief periods of missing her and feeling slightly heartbroken again but they dont last long a few days at most but the thing is even when im not in those periods its like she still influences me and my decisions and my life in so many ways most of my insecurities and feelings and decisions regarding my appearance r influenced by knowing im not attractive to her and trying to do things especially with like my hair that might seem better looking to her even tho ik shes just never gonna change her mind about me and like i said i just want to meet someone new at this point and its like i still think about her a lot and its like idk why like am i just always gonna remember this girl like why does she still continue to have this much of an effect on me after all this time and even tho ive pretty much moved on\\n\\nidk im just rambling and dont even know how to describe what im feeling or even where i was going with this                                                                                                                                |0    |1.0       |\n",
            "|i keep having dreams about my old friends i dont know why this keeps happening but here are my two most memorable ones in my first dream i was walking down the hallway of my school and i notice one of my old friends i stopped and said hi in disbelief we started walking together and then i see another of my friends this happens a couple more times until were all just one big entourage whats weird is that my brain managed to picture them as if they were in high school  and i have no idea how it did that considering i havent seen them since th grade it was honestly one of my happiest dreams the second one is pretty consistent its usually about this one girl who i think had a crush on me and i probably had a crush on her and she moved to my school my dream would always be me trying to talk to her or get her attention to see if she remembers me but im always too shy to say something \\n\\nthanks for reading if you actually did im assuming these dreams mean i actually miss my old friends and i regret not keeping in contact with any of them so i guess the moral of the story is to not let go of the people you care about thank you for listening to my ted talk                                                                                                                                                                                                                                                                                                                                                                                                                                                                                            |0    |0.0       |\n",
            "|i am close to ending it all how should it be donei have become a useless person and everyone seems to think so too no one is here for me anymore i still have friends but they all seem like strangers to me now i have been friends with all of them for around  years now we have spent everyday of highschool together and as a group a bunch of kids just wanting to have fun\\n\\ni think ive given up on people because of what ive been subjected to im not going to say ive been through the worse there is but whats the point in comparing hardships im living a rough fucking life and i dont want to keep going no one takes my pain seriously because im too put together and that ill get over it i refuse to put up with it any longer\\n\\nhow should i kill myself ive thought about hanging but i dont have an actual place to do it ive thought about throwing myself off the balconey of the apartment i live in but what if i survive theyll just keep me alive i cant get my hands on a gun either                                                                                                                                                                                                                                                                                                                                                                                                                                                                                                                                                                                                                                                                                      |1    |1.0       |\n",
            "|i dont get iti am not even very sad right now but the want is still there and i hate it i dont think ill ever have someone im open with again                                                                                                                                                                                                                                                                                                                                                                                                                                                                                                                                                                                                                                                                                                                                                                                                                                                                                                                                                                                                                                                                                                                                                                                                                                                                                                                                                                                                                                                                                                                                                             |1    |1.0       |\n",
            "|im so aloneeven when im around people i feel alone  i used to be scared of death but now i just apathetic and empty all the time ive had my heart crushed so hard and so many times im convinced that no one would ever want a relationship with me and if they do they leave because of how messed up and depressed i am ill likely be alone forever at this point because im already  and i have no one that could even remotely be a possibility to date and im horrible at meeting people the only people who seem to like me are guys that prey on my insecurities and end up breaking my heart to pieces people tell me that im pretty and ill find someone one day but pretty means nothing if you dont have the personality to back it up \\n\\nmost of my friends have become distant from me someone i was involved with said he wanted to stay friends and hang out but hasnt really ever made an effort so i kind of lost him as a friend another one of the people that helped me when i was really emotionally hurting said that he doesnt want to hang out with me anymore because he dowsnt want his girlfriend to get the wrong idea so hes gone now\\n\\nthe only person im alive for is my sister but im so fucking alone even though i have her i feel bad because shell never never be the same but i know she has a boyfriend at least that will be there for her \\n\\npeople think im getting better but ive never been more alone in my life i dont care about anything anymore all of my goals ive given up and all of the things that used to make me happy dont anymore im completely dead inside i feel like im ready to just do it whenever no one cares about me and im giving up|1    |1.0       |\n",
            "|im waiting for my parents to die to end my lifei have those picture perfect parents who love me unconditionally and would do anything for me something many dont have so you would think then what could possibly be wrong \\n\\neverything but them but sometimes its not enough i first tried to kill myself when i was  im now  and diagnosed with a non curable chronic pain disease what was the point we all live with pain but im drowning in a sea of pain without any life jacket ive done the treatments the meds the numerous therapies offered but the only reason i cant follow through to end this pain because of them i saw the hurt in my parents eyes after waking up in that hospital that hurt i caused them for just a split second trumps all pain ive ever felt it hurts me even more that they gave me such an easy perfect life and all i want to do is end it they would sacrifice their own lives for me to live a pain free one no matter how much i dont want to get out of bed or no matter how much i just dont want to live this life anymore i will live yours as your daughter till the day you die \\n\\nto my mother and father im so sorry for feeling so hopeless when all you do is try to find endless ways to give me hope youve done everything for me the least i can do is save you from that suffering \\n                                                                                                                                                                                                                                                                                                                                                        |1    |1.0       |\n",
            "|i have a bottle where do i sign up to the suicide pacti think tonights it                                                                                                                                                                                                                                                                                                                                                                                                                                                                                                                                                                                                                                                                                                                                                                                                                                                                                                                                                                                                                                                                                                                                                                                                                                                                                                                                                                                                                                                                                                                                                                                                                                 |1    |1.0       |\n",
            "|do it now before its worsehere i am mid s a wife and two daughters i can barely provide for and i feel lost for it\\n\\ni thought about making an alt for this but no this deserves to be here my daughters are  years and  month old respectively and i think that if i end it maybe it wont hurt them since they are so young they wont know the disappointment that is thier bastard of a father and my wife could find someone better someone to support them i always stop myself what if it catches up though what if they are  and  and then i do it that would be so much worse i dont want them to know me i keep holding on i keep thinking that ill get better but i never do \\n\\ni could ramble forever but this isnt to sob i just think they could do better without me\\n\\njust watch                                                                                                                                                                                                                                                                                                                                                                                                                                                                                                                                                                                                                                                                                                                                                                                                                                                                                                         |1    |1.0       |\n",
            "|i have losti posted this on rdepression but this seems the better place to post it \\n  \\ndepression has beaten me ive been struggling for  years or so to varying degrees and i am too emotionally tired to fight it any more its impossibly tough\\n\\nim at the weird calm point ive only heard about or read about im not upset angry sad annoyed theres still no emotion except the confidence in my intentions\\n\\nno one will miss me no one will care everyone will be better off not having to remember i exist at all\\n\\ni know what i am going to do so its only a matter of hours till im dead and deservedly so im a lazy forgetful selfish piece of shit and dont deserve the time of day from anyone at all\\n\\nim not looking out for a reply of any kind just wanted to let the last of my thoughts out                                                                                                                                                                                                                                                                                                                                                                                                                                                                                                                                                                                                                                                                                                                                                                                                                                                                                       |1    |1.0       |\n",
            "+----------------------------------------------------------------------------------------------------------------------------------------------------------------------------------------------------------------------------------------------------------------------------------------------------------------------------------------------------------------------------------------------------------------------------------------------------------------------------------------------------------------------------------------------------------------------------------------------------------------------------------------------------------------------------------------------------------------------------------------------------------------------------------------------------------------------------------------------------------------------------------------------------------------------------------------------------------------------------------------------------------------------------------------------------------------------------------------------------------------------------------------------------------------------------------------------------------------------------------------------------------------------------------------------------------------------------------------------------------------------------------------------------------------------------------------------------------------------------------------------------------------------------------------------------------------------------------------------------------------------------------------------------------------------------------------------------------+-----+----------+\n",
            "only showing top 10 rows\n",
            "\n",
            "✅ Accuracy:  89.36%\n",
            "✅ Precision: 89.88%\n",
            "✅ Recall:    89.36%\n",
            "✅ F1 Score:  89.33%\n"
          ]
        }
      ]
    },
    {
      "cell_type": "code",
      "source": [
        "from pyspark.sql import SparkSession\n",
        "from pyspark.sql.types import StructType, StructField, StringType\n",
        "from pyspark.sql.functions import col, lower, regexp_replace, when\n",
        "\n",
        "# ✅ 1. Start Spark session (if not already started)\n",
        "spark = SparkSession.builder.appName(\"LoadTestData\").getOrCreate()\n",
        "\n",
        "# ✅ 2. Define schema for test data\n",
        "schema = StructType([\n",
        "    StructField(\"text\", StringType(), True),\n",
        "    StructField(\"label\", StringType(), True)\n",
        "])\n",
        "\n",
        "# ✅ 3. Load the test CSV properly\n",
        "test_df = spark.read.option(\"header\", True) \\\n",
        "    .option(\"multiLine\", True) \\\n",
        "    .option(\"quote\", '\"') \\\n",
        "    .option(\"escape\", '\"') \\\n",
        "    .schema(schema) \\\n",
        "    .csv(\"/content/drive/MyDrive/final_test.csv\")\n",
        "\n",
        "# ✅ 4. Check schema and label values\n",
        "test_df.printSchema()\n",
        "test_df.select(\"label\").distinct().show(truncate=False)\n"
      ],
      "metadata": {
        "id": "d9eB532MFfb1",
        "colab": {
          "base_uri": "https://localhost:8080/"
        },
        "outputId": "854f73aa-5379-4442-9121-d8386f528751"
      },
      "execution_count": null,
      "outputs": [
        {
          "output_type": "stream",
          "name": "stdout",
          "text": [
            "root\n",
            " |-- text: string (nullable = true)\n",
            " |-- label: string (nullable = true)\n",
            "\n",
            "+-----------+\n",
            "|label      |\n",
            "+-----------+\n",
            "|suicide    |\n",
            "|non-suicide|\n",
            "+-----------+\n",
            "\n"
          ]
        }
      ]
    },
    {
      "cell_type": "code",
      "source": [
        "from pyspark.ml.feature import Tokenizer, StopWordsRemover\n",
        "from pyspark.sql.functions import lower, regexp_replace, when\n",
        "# ✅ Clean CSV formatting\n",
        "\n",
        "test_df = test_df.dropna(subset=[\"text\", \"label\"])\n",
        "test_df = test_df.withColumn(\"label\", when(col(\"label\") == \"suicide\", 1).otherwise(0))\n",
        "test_df = test_df.withColumn(\"text\", lower(col(\"text\")))\n",
        "test_df = test_df.withColumn(\"text\", regexp_replace(\"text\", \"[^a-z\\\\s]\", \"\"))\n",
        "\n"
      ],
      "metadata": {
        "id": "asxCmq6gGhri"
      },
      "execution_count": null,
      "outputs": []
    },
    {
      "cell_type": "code",
      "source": [
        "from pyspark.ml import PipelineModel\n",
        "from pyspark.ml.evaluation import MulticlassClassificationEvaluator\n",
        "\n",
        "# === Step 1: Load All 3 Saved Pipeline Models ===\n",
        "pipeline_nb = PipelineModel.load(\"/content/drive/MyDrive/pipeline_nb_model\")\n",
        "pipeline_rf = PipelineModel.load(\"/content/drive/MyDrive/pipeline_rf_model_final\")\n",
        "pipeline_gbt = PipelineModel.load(\"/content/drive/MyDrive/pipeline_gbt_final\")\n",
        "\n",
        "\n",
        "# === Step 2: Define Evaluation Function ===\n",
        "def evaluate_model(pred_df, model_name):\n",
        "    evaluator_acc = MulticlassClassificationEvaluator(labelCol=\"label\", predictionCol=\"prediction\", metricName=\"accuracy\")\n",
        "    evaluator_f1 = MulticlassClassificationEvaluator(labelCol=\"label\", predictionCol=\"prediction\", metricName=\"f1\")\n",
        "    evaluator_prec = MulticlassClassificationEvaluator(labelCol=\"label\", predictionCol=\"prediction\", metricName=\"weightedPrecision\")\n",
        "    evaluator_rec = MulticlassClassificationEvaluator(labelCol=\"label\", predictionCol=\"prediction\", metricName=\"weightedRecall\")\n",
        "\n",
        "    accuracy = evaluator_acc.evaluate(pred_df)\n",
        "    f1 = evaluator_f1.evaluate(pred_df)\n",
        "    precision = evaluator_prec.evaluate(pred_df)\n",
        "    recall = evaluator_rec.evaluate(pred_df)\n",
        "\n",
        "    print(f\"\\n🔍 Results for {model_name}\")\n",
        "    print(f\"Accuracy:  {round(accuracy * 100, 2)}%\")\n",
        "    print(f\"F1 Score:  {round(f1 * 100, 2)}%\")\n",
        "    print(f\"Precision: {round(precision * 100, 2)}%\")\n",
        "    print(f\"Recall:    {round(recall * 100, 2)}%\")\n",
        "\n",
        "# === Step 3: Run Predictions ===\n",
        "pred_nb = pipeline_nb.transform(test_df)\n",
        "pred_rf = pipeline_rf.transform(test_df)\n",
        "pred_gbt = pipeline_gbt.transform(test_df)\n",
        "\n",
        "# === Step 4: Evaluate All ===\n",
        "evaluate_model(pred_nb, \"Naive Bayes\")\n",
        "evaluate_model(pred_rf, \"Random Forest\")\n",
        "evaluate_model(pred_gbt, \"GBT Classifier\")\n",
        "\n",
        "# === Optional: Show sample predictions for each ===\n",
        "print(\"\\n🧠 Sample Predictions for Naive Bayes:\")\n",
        "pred_nb.select(\"text\", \"label\", \"prediction\").show(3, truncate=False)\n",
        "\n",
        "print(\"\\n🌲 Sample Predictions for Random Forest:\")\n",
        "pred_rf.select(\"text\", \"label\", \"prediction\").show(3, truncate=False)\n",
        "\n",
        "print(\"\\n⚡ Sample Predictions for GBT Classifier:\")\n",
        "pred_gbt.select(\"text\", \"label\", \"prediction\").show(3, truncate=False)\n"
      ],
      "metadata": {
        "colab": {
          "base_uri": "https://localhost:8080/"
        },
        "id": "UoTa0WX_IKVF",
        "outputId": "5ae66fe2-9d3e-4a01-9c88-b5491eff2e48"
      },
      "execution_count": null,
      "outputs": [
        {
          "output_type": "stream",
          "name": "stdout",
          "text": [
            "\n",
            "🔍 Results for Naive Bayes\n",
            "Accuracy:  89.43%\n",
            "F1 Score:  89.39%\n",
            "Precision: 89.99%\n",
            "Recall:    89.43%\n",
            "\n",
            "🔍 Results for Random Forest\n",
            "Accuracy:  82.83%\n",
            "F1 Score:  82.74%\n",
            "Precision: 83.57%\n",
            "Recall:    82.83%\n",
            "\n",
            "🔍 Results for GBT Classifier\n",
            "Accuracy:  87.01%\n",
            "F1 Score:  87.0%\n",
            "Precision: 87.18%\n",
            "Recall:    87.01%\n",
            "\n",
            "🧠 Sample Predictions for Naive Bayes:\n",
            "+-------------------------------------------------------------------------------------------------------------------------------------------------------------------------------------------------------------------------------------------------------------------------------------------------------------------------------------------------------------------------------------------------------------------------------------------------------------------------------------------------------------------------------------------------------------------------------------------------------------------------------------------------------------------------------------------------------------------------------------------------------------------------------------------------------------------------------------------------------------------------------------------------------------------------------------------------------------------------------------------------------------------------------------------------------------------------------------------------------------------------------------------------------------------------------------------------------------------------------------------------------------------------------------------------------------------------------------------------------------------------------------------------------------------------------------------------------------------------------------------------------------------------------------------------------------------------------------------------------------------------------------------------------------------------------------------------------------------------------------------------------------------------------------------------------------------------------------------------------------------------------------------------------------------------------------------------------------------------------------------------------------------------------------------------------------------------------------------------------------------------------------------------------------------------------------------------------------------------------------------------------------------------------------------------------------------------------------------------------------------------+-----+----------+\n",
            "|text                                                                                                                                                                                                                                                                                                                                                                                                                                                                                                                                                                                                                                                                                                                                                                                                                                                                                                                                                                                                                                                                                                                                                                                                                                                                                                                                                                                                                                                                                                                                                                                                                                                                                                                                                                                                                                                                                                                                                                                                                                                                                                                                                                                                                                                                                                                                                                     |label|prediction|\n",
            "+-------------------------------------------------------------------------------------------------------------------------------------------------------------------------------------------------------------------------------------------------------------------------------------------------------------------------------------------------------------------------------------------------------------------------------------------------------------------------------------------------------------------------------------------------------------------------------------------------------------------------------------------------------------------------------------------------------------------------------------------------------------------------------------------------------------------------------------------------------------------------------------------------------------------------------------------------------------------------------------------------------------------------------------------------------------------------------------------------------------------------------------------------------------------------------------------------------------------------------------------------------------------------------------------------------------------------------------------------------------------------------------------------------------------------------------------------------------------------------------------------------------------------------------------------------------------------------------------------------------------------------------------------------------------------------------------------------------------------------------------------------------------------------------------------------------------------------------------------------------------------------------------------------------------------------------------------------------------------------------------------------------------------------------------------------------------------------------------------------------------------------------------------------------------------------------------------------------------------------------------------------------------------------------------------------------------------------------------------------------------------+-----+----------+\n",
            "|i woke up yesterday with the feeling of having nothing leftive struggled with the thought of suicide in the past but yesterday it really hit me that it is my only choice i dont want to do it but it looks like its my only point of relief i am a  year old male who lives with his mother and step father because i dont make enough money to live on my own due to the  a month in child support i pay for one  year old little girl i wont even be able to get her christmas gifts this year because all of my money goes to buying food and gas to get to work after bills i have only  left over which goes to food and gas i was told by my step father just a month ago that i have  months to move out or he will leave so my mother supports his decision she knows how bad my financial situation is but she doesnt want him to leave because she will be screwed financially so in less than  months i will be on the streets and will have no relationship with my daughter as i will have no home for her to stay at and no way to take care of her i can try to go for a modification of childsupport but my daughters mother lied on her financial affidavit before which is why i am in this mess with child support and she will do it again and no i cannot get a lawyer because i cannot afford it i already owe k to the previous lawyer who did almost nothing for me before the last time i tried to get a second job nobody would hire me because of my scheduling with my daughter they want someone who can work whenever they want you to and parenting schedules are something that nobody wants to deal with i applied to over  jobs before and received one offer but when i told them that i had to adhere to a parenting schedule they turned me down if i dont adhere to this schedule my daughters mother will do everything she can to take her from me i suffer from mental illness that is still undiagnosed because i cannot afford the doctor appointments and weekly tharapy to get it to a manageable state i feel like i have no choice but to end all of this as its only getting worse and ill either end up on the streets dead or in jail anyway i honestly dont know what else i can do but this i need help because im afraid i will actually do this i dont want to but i see no way out of this please someone help me|1    |1.0       |\n",
            "|did i ask bro maybe i did idk                                                                                                                                                                                                                                                                                                                                                                                                                                                                                                                                                                                                                                                                                                                                                                                                                                                                                                                                                                                                                                                                                                                                                                                                                                                                                                                                                                                                                                                                                                                                                                                                                                                                                                                                                                                                                                                                                                                                                                                                                                                                                                                                                                                                                                                                                                                                            |0    |0.0       |\n",
            "|big ooff yah bois school has been closed for the last  days and is closed tomorrow and maybe all of next week                                                                                                                                                                                                                                                                                                                                                                                                                                                                                                                                                                                                                                                                                                                                                                                                                                                                                                                                                                                                                                                                                                                                                                                                                                                                                                                                                                                                                                                                                                                                                                                                                                                                                                                                                                                                                                                                                                                                                                                                                                                                                                                                                                                                                                                            |0    |0.0       |\n",
            "+-------------------------------------------------------------------------------------------------------------------------------------------------------------------------------------------------------------------------------------------------------------------------------------------------------------------------------------------------------------------------------------------------------------------------------------------------------------------------------------------------------------------------------------------------------------------------------------------------------------------------------------------------------------------------------------------------------------------------------------------------------------------------------------------------------------------------------------------------------------------------------------------------------------------------------------------------------------------------------------------------------------------------------------------------------------------------------------------------------------------------------------------------------------------------------------------------------------------------------------------------------------------------------------------------------------------------------------------------------------------------------------------------------------------------------------------------------------------------------------------------------------------------------------------------------------------------------------------------------------------------------------------------------------------------------------------------------------------------------------------------------------------------------------------------------------------------------------------------------------------------------------------------------------------------------------------------------------------------------------------------------------------------------------------------------------------------------------------------------------------------------------------------------------------------------------------------------------------------------------------------------------------------------------------------------------------------------------------------------------------------+-----+----------+\n",
            "only showing top 3 rows\n",
            "\n",
            "\n",
            "🌲 Sample Predictions for Random Forest:\n",
            "+-------------------------------------------------------------------------------------------------------------------------------------------------------------------------------------------------------------------------------------------------------------------------------------------------------------------------------------------------------------------------------------------------------------------------------------------------------------------------------------------------------------------------------------------------------------------------------------------------------------------------------------------------------------------------------------------------------------------------------------------------------------------------------------------------------------------------------------------------------------------------------------------------------------------------------------------------------------------------------------------------------------------------------------------------------------------------------------------------------------------------------------------------------------------------------------------------------------------------------------------------------------------------------------------------------------------------------------------------------------------------------------------------------------------------------------------------------------------------------------------------------------------------------------------------------------------------------------------------------------------------------------------------------------------------------------------------------------------------------------------------------------------------------------------------------------------------------------------------------------------------------------------------------------------------------------------------------------------------------------------------------------------------------------------------------------------------------------------------------------------------------------------------------------------------------------------------------------------------------------------------------------------------------------------------------------------------------------------------------------------------+-----+----------+\n",
            "|text                                                                                                                                                                                                                                                                                                                                                                                                                                                                                                                                                                                                                                                                                                                                                                                                                                                                                                                                                                                                                                                                                                                                                                                                                                                                                                                                                                                                                                                                                                                                                                                                                                                                                                                                                                                                                                                                                                                                                                                                                                                                                                                                                                                                                                                                                                                                                                     |label|prediction|\n",
            "+-------------------------------------------------------------------------------------------------------------------------------------------------------------------------------------------------------------------------------------------------------------------------------------------------------------------------------------------------------------------------------------------------------------------------------------------------------------------------------------------------------------------------------------------------------------------------------------------------------------------------------------------------------------------------------------------------------------------------------------------------------------------------------------------------------------------------------------------------------------------------------------------------------------------------------------------------------------------------------------------------------------------------------------------------------------------------------------------------------------------------------------------------------------------------------------------------------------------------------------------------------------------------------------------------------------------------------------------------------------------------------------------------------------------------------------------------------------------------------------------------------------------------------------------------------------------------------------------------------------------------------------------------------------------------------------------------------------------------------------------------------------------------------------------------------------------------------------------------------------------------------------------------------------------------------------------------------------------------------------------------------------------------------------------------------------------------------------------------------------------------------------------------------------------------------------------------------------------------------------------------------------------------------------------------------------------------------------------------------------------------+-----+----------+\n",
            "|i woke up yesterday with the feeling of having nothing leftive struggled with the thought of suicide in the past but yesterday it really hit me that it is my only choice i dont want to do it but it looks like its my only point of relief i am a  year old male who lives with his mother and step father because i dont make enough money to live on my own due to the  a month in child support i pay for one  year old little girl i wont even be able to get her christmas gifts this year because all of my money goes to buying food and gas to get to work after bills i have only  left over which goes to food and gas i was told by my step father just a month ago that i have  months to move out or he will leave so my mother supports his decision she knows how bad my financial situation is but she doesnt want him to leave because she will be screwed financially so in less than  months i will be on the streets and will have no relationship with my daughter as i will have no home for her to stay at and no way to take care of her i can try to go for a modification of childsupport but my daughters mother lied on her financial affidavit before which is why i am in this mess with child support and she will do it again and no i cannot get a lawyer because i cannot afford it i already owe k to the previous lawyer who did almost nothing for me before the last time i tried to get a second job nobody would hire me because of my scheduling with my daughter they want someone who can work whenever they want you to and parenting schedules are something that nobody wants to deal with i applied to over  jobs before and received one offer but when i told them that i had to adhere to a parenting schedule they turned me down if i dont adhere to this schedule my daughters mother will do everything she can to take her from me i suffer from mental illness that is still undiagnosed because i cannot afford the doctor appointments and weekly tharapy to get it to a manageable state i feel like i have no choice but to end all of this as its only getting worse and ill either end up on the streets dead or in jail anyway i honestly dont know what else i can do but this i need help because im afraid i will actually do this i dont want to but i see no way out of this please someone help me|1    |1.0       |\n",
            "|did i ask bro maybe i did idk                                                                                                                                                                                                                                                                                                                                                                                                                                                                                                                                                                                                                                                                                                                                                                                                                                                                                                                                                                                                                                                                                                                                                                                                                                                                                                                                                                                                                                                                                                                                                                                                                                                                                                                                                                                                                                                                                                                                                                                                                                                                                                                                                                                                                                                                                                                                            |0    |0.0       |\n",
            "|big ooff yah bois school has been closed for the last  days and is closed tomorrow and maybe all of next week                                                                                                                                                                                                                                                                                                                                                                                                                                                                                                                                                                                                                                                                                                                                                                                                                                                                                                                                                                                                                                                                                                                                                                                                                                                                                                                                                                                                                                                                                                                                                                                                                                                                                                                                                                                                                                                                                                                                                                                                                                                                                                                                                                                                                                                            |0    |0.0       |\n",
            "+-------------------------------------------------------------------------------------------------------------------------------------------------------------------------------------------------------------------------------------------------------------------------------------------------------------------------------------------------------------------------------------------------------------------------------------------------------------------------------------------------------------------------------------------------------------------------------------------------------------------------------------------------------------------------------------------------------------------------------------------------------------------------------------------------------------------------------------------------------------------------------------------------------------------------------------------------------------------------------------------------------------------------------------------------------------------------------------------------------------------------------------------------------------------------------------------------------------------------------------------------------------------------------------------------------------------------------------------------------------------------------------------------------------------------------------------------------------------------------------------------------------------------------------------------------------------------------------------------------------------------------------------------------------------------------------------------------------------------------------------------------------------------------------------------------------------------------------------------------------------------------------------------------------------------------------------------------------------------------------------------------------------------------------------------------------------------------------------------------------------------------------------------------------------------------------------------------------------------------------------------------------------------------------------------------------------------------------------------------------------------+-----+----------+\n",
            "only showing top 3 rows\n",
            "\n",
            "\n",
            "⚡ Sample Predictions for GBT Classifier:\n",
            "+-------------------------------------------------------------------------------------------------------------------------------------------------------------------------------------------------------------------------------------------------------------------------------------------------------------------------------------------------------------------------------------------------------------------------------------------------------------------------------------------------------------------------------------------------------------------------------------------------------------------------------------------------------------------------------------------------------------------------------------------------------------------------------------------------------------------------------------------------------------------------------------------------------------------------------------------------------------------------------------------------------------------------------------------------------------------------------------------------------------------------------------------------------------------------------------------------------------------------------------------------------------------------------------------------------------------------------------------------------------------------------------------------------------------------------------------------------------------------------------------------------------------------------------------------------------------------------------------------------------------------------------------------------------------------------------------------------------------------------------------------------------------------------------------------------------------------------------------------------------------------------------------------------------------------------------------------------------------------------------------------------------------------------------------------------------------------------------------------------------------------------------------------------------------------------------------------------------------------------------------------------------------------------------------------------------------------------------------------------------------------+-----+----------+\n",
            "|text                                                                                                                                                                                                                                                                                                                                                                                                                                                                                                                                                                                                                                                                                                                                                                                                                                                                                                                                                                                                                                                                                                                                                                                                                                                                                                                                                                                                                                                                                                                                                                                                                                                                                                                                                                                                                                                                                                                                                                                                                                                                                                                                                                                                                                                                                                                                                                     |label|prediction|\n",
            "+-------------------------------------------------------------------------------------------------------------------------------------------------------------------------------------------------------------------------------------------------------------------------------------------------------------------------------------------------------------------------------------------------------------------------------------------------------------------------------------------------------------------------------------------------------------------------------------------------------------------------------------------------------------------------------------------------------------------------------------------------------------------------------------------------------------------------------------------------------------------------------------------------------------------------------------------------------------------------------------------------------------------------------------------------------------------------------------------------------------------------------------------------------------------------------------------------------------------------------------------------------------------------------------------------------------------------------------------------------------------------------------------------------------------------------------------------------------------------------------------------------------------------------------------------------------------------------------------------------------------------------------------------------------------------------------------------------------------------------------------------------------------------------------------------------------------------------------------------------------------------------------------------------------------------------------------------------------------------------------------------------------------------------------------------------------------------------------------------------------------------------------------------------------------------------------------------------------------------------------------------------------------------------------------------------------------------------------------------------------------------+-----+----------+\n",
            "|i woke up yesterday with the feeling of having nothing leftive struggled with the thought of suicide in the past but yesterday it really hit me that it is my only choice i dont want to do it but it looks like its my only point of relief i am a  year old male who lives with his mother and step father because i dont make enough money to live on my own due to the  a month in child support i pay for one  year old little girl i wont even be able to get her christmas gifts this year because all of my money goes to buying food and gas to get to work after bills i have only  left over which goes to food and gas i was told by my step father just a month ago that i have  months to move out or he will leave so my mother supports his decision she knows how bad my financial situation is but she doesnt want him to leave because she will be screwed financially so in less than  months i will be on the streets and will have no relationship with my daughter as i will have no home for her to stay at and no way to take care of her i can try to go for a modification of childsupport but my daughters mother lied on her financial affidavit before which is why i am in this mess with child support and she will do it again and no i cannot get a lawyer because i cannot afford it i already owe k to the previous lawyer who did almost nothing for me before the last time i tried to get a second job nobody would hire me because of my scheduling with my daughter they want someone who can work whenever they want you to and parenting schedules are something that nobody wants to deal with i applied to over  jobs before and received one offer but when i told them that i had to adhere to a parenting schedule they turned me down if i dont adhere to this schedule my daughters mother will do everything she can to take her from me i suffer from mental illness that is still undiagnosed because i cannot afford the doctor appointments and weekly tharapy to get it to a manageable state i feel like i have no choice but to end all of this as its only getting worse and ill either end up on the streets dead or in jail anyway i honestly dont know what else i can do but this i need help because im afraid i will actually do this i dont want to but i see no way out of this please someone help me|1    |1.0       |\n",
            "|did i ask bro maybe i did idk                                                                                                                                                                                                                                                                                                                                                                                                                                                                                                                                                                                                                                                                                                                                                                                                                                                                                                                                                                                                                                                                                                                                                                                                                                                                                                                                                                                                                                                                                                                                                                                                                                                                                                                                                                                                                                                                                                                                                                                                                                                                                                                                                                                                                                                                                                                                            |0    |0.0       |\n",
            "|big ooff yah bois school has been closed for the last  days and is closed tomorrow and maybe all of next week                                                                                                                                                                                                                                                                                                                                                                                                                                                                                                                                                                                                                                                                                                                                                                                                                                                                                                                                                                                                                                                                                                                                                                                                                                                                                                                                                                                                                                                                                                                                                                                                                                                                                                                                                                                                                                                                                                                                                                                                                                                                                                                                                                                                                                                            |0    |0.0       |\n",
            "+-------------------------------------------------------------------------------------------------------------------------------------------------------------------------------------------------------------------------------------------------------------------------------------------------------------------------------------------------------------------------------------------------------------------------------------------------------------------------------------------------------------------------------------------------------------------------------------------------------------------------------------------------------------------------------------------------------------------------------------------------------------------------------------------------------------------------------------------------------------------------------------------------------------------------------------------------------------------------------------------------------------------------------------------------------------------------------------------------------------------------------------------------------------------------------------------------------------------------------------------------------------------------------------------------------------------------------------------------------------------------------------------------------------------------------------------------------------------------------------------------------------------------------------------------------------------------------------------------------------------------------------------------------------------------------------------------------------------------------------------------------------------------------------------------------------------------------------------------------------------------------------------------------------------------------------------------------------------------------------------------------------------------------------------------------------------------------------------------------------------------------------------------------------------------------------------------------------------------------------------------------------------------------------------------------------------------------------------------------------------------+-----+----------+\n",
            "only showing top 3 rows\n",
            "\n"
          ]
        }
      ]
    },
    {
      "cell_type": "markdown",
      "source": [
        "XGBoost"
      ],
      "metadata": {
        "id": "-7GMJnUHD23D"
      }
    },
    {
      "cell_type": "code",
      "source": [
        "# ✅ 1. Install\n",
        "!pip install xgboost --quiet\n",
        "import nltk\n",
        "nltk.download('stopwords')\n"
      ],
      "metadata": {
        "colab": {
          "base_uri": "https://localhost:8080/"
        },
        "id": "KXl9XPCGD3Cl",
        "outputId": "dc7ca666-86d0-4685-ea97-f3988d104d19"
      },
      "execution_count": null,
      "outputs": [
        {
          "output_type": "stream",
          "name": "stderr",
          "text": [
            "[nltk_data] Downloading package stopwords to /root/nltk_data...\n",
            "[nltk_data]   Unzipping corpora/stopwords.zip.\n"
          ]
        },
        {
          "output_type": "execute_result",
          "data": {
            "text/plain": [
              "True"
            ]
          },
          "metadata": {},
          "execution_count": 2
        }
      ]
    },
    {
      "cell_type": "code",
      "source": [
        "# ✅ 2. Import\n",
        "import pandas as pd\n",
        "import re\n",
        "import joblib\n",
        "from sklearn.pipeline import Pipeline\n",
        "from sklearn.feature_extraction.text import CountVectorizer, TfidfTransformer\n",
        "from sklearn.metrics import classification_report, accuracy_score\n",
        "from xgboost import XGBClassifier\n",
        "from nltk.corpus import stopwords\n",
        "\n",
        "stop_words = set(stopwords.words('english'))\n",
        "\n",
        "# ✅ 3. Clean Function\n",
        "def clean_text(text):\n",
        "    text = text.lower()\n",
        "    text = re.sub(r'[^a-z\\s]', '', text)\n",
        "    words = text.split()\n",
        "    filtered = [w for w in words if w not in stop_words]\n",
        "    return \" \".join(filtered)\n",
        "\n",
        "# ✅ 4. Load & Clean Train\n",
        "train_df = pd.read_csv(\"/content/drive/MyDrive/final_train.csv\").dropna(subset=[\"text\", \"label\"])\n",
        "train_df[\"text\"] = train_df[\"text\"].apply(clean_text)\n",
        "train_df[\"label\"] = train_df[\"label\"].map({'non-suicide': 0, 'suicide': 1})\n",
        "\n",
        "print(\"🟢 Train Sample:\\n\", train_df.head())\n",
        "print(\"🔢 Train Label Counts:\\n\", train_df[\"label\"].value_counts())\n",
        "\n",
        "# ✅ 5. Load & Clean Dev\n",
        "dev_df = pd.read_csv(\"/content/drive/MyDrive/final_dev.csv\").dropna(subset=[\"text\", \"label\"])\n",
        "dev_df[\"text\"] = dev_df[\"text\"].apply(clean_text)\n",
        "dev_df[\"label\"] = dev_df[\"label\"].map({'non-suicide': 0, 'suicide': 1})\n",
        "\n",
        "print(\"\\n🟣 Dev Sample:\\n\", dev_df.head())\n",
        "print(\"🔢 Dev Label Counts:\\n\", dev_df[\"label\"].value_counts())\n",
        "\n",
        "# ✅ 6. Build & Train Pipeline\n",
        "pipeline = Pipeline([\n",
        "    ('vect', CountVectorizer(max_features=5000, ngram_range=(1, 2))),\n",
        "    ('tfidf', TfidfTransformer()),\n",
        "    ('clf', XGBClassifier(n_estimators=200, max_depth=5, use_label_encoder=False, eval_metric='logloss'))\n",
        "])\n",
        "pipeline.fit(train_df[\"text\"], train_df[\"label\"])\n",
        "print(\"\\n✅ Model trained successfully.\")\n",
        "\n",
        "# ✅ 7. Save the model\n",
        "joblib.dump(pipeline, \"/content/drive/MyDrive/xgb_pipeline.pkl\")\n",
        "print(\"💾 Model saved to Drive.\")\n"
      ],
      "metadata": {
        "colab": {
          "base_uri": "https://localhost:8080/"
        },
        "id": "6EHQdOKIGT76",
        "outputId": "e08eb70c-5f55-4673-bf29-8841499194bb"
      },
      "execution_count": null,
      "outputs": [
        {
          "output_type": "stream",
          "name": "stdout",
          "text": [
            "🟢 Train Sample:\n",
            "                                                 text  label\n",
            "0  guardian angeli met partner back suicidal self...      1\n",
            "1  im losing hope getting better quarantine ruine...      1\n",
            "2   thotery increasing skirt trend made things worse      0\n",
            "3              every time age parents rage also ages      0\n",
            "4  friend suicidal im afraidmy friend depressed y...      1\n",
            "🔢 Train Label Counts:\n",
            " label\n",
            "1    81226\n",
            "0    81225\n",
            "Name: count, dtype: int64\n",
            "\n",
            "🟣 Dev Sample:\n",
            "                                                 text  label\n",
            "0  seriously considering suicideits middle night ...      1\n",
            "1  tf still huge part life liketheres girl reject...      0\n",
            "2  keep dreams old friends dont know keeps happen...      0\n",
            "3  close ending donei become useless person every...      1\n",
            "4  dont get iti even sad right want still hate do...      1\n",
            "🔢 Dev Label Counts:\n",
            " label\n",
            "0    17406\n",
            "1    17405\n",
            "Name: count, dtype: int64\n"
          ]
        },
        {
          "output_type": "stream",
          "name": "stderr",
          "text": [
            "/usr/local/lib/python3.11/dist-packages/xgboost/core.py:158: UserWarning: [03:03:43] WARNING: /workspace/src/learner.cc:740: \n",
            "Parameters: { \"use_label_encoder\" } are not used.\n",
            "\n",
            "  warnings.warn(smsg, UserWarning)\n"
          ]
        },
        {
          "output_type": "stream",
          "name": "stdout",
          "text": [
            "\n",
            "✅ Model trained successfully.\n",
            "💾 Model saved to Drive.\n"
          ]
        }
      ]
    },
    {
      "cell_type": "code",
      "source": [
        "# ✅ 8. Load saved model & Predict on Dev\n",
        "loaded_model = joblib.load(\"/content/drive/MyDrive/xgb_pipeline.pkl\")\n",
        "y_pred = loaded_model.predict(dev_df[\"text\"])\n"
      ],
      "metadata": {
        "id": "hNmlTNC8D3FF"
      },
      "execution_count": null,
      "outputs": []
    },
    {
      "cell_type": "code",
      "source": [
        "# ✅ 9. Evaluate\n",
        "report_dict = classification_report(dev_df[\"label\"], y_pred, output_dict=True)\n",
        "accuracy = accuracy_score(dev_df[\"label\"], y_pred)\n",
        "\n",
        "print(\"\\n📊 Evaluation Metrics (Dev Set):\")\n",
        "print(f\"✅ Accuracy     : {round(accuracy * 100, 2)}%\")\n",
        "print(f\"🔁 Precision    : {round(report_dict['weighted avg']['precision'] * 100, 2)}%\")\n",
        "print(f\"🎯 Recall       : {round(report_dict['weighted avg']['recall'] * 100, 2)}%\")\n",
        "print(f\"📏 F1-score     : {round(report_dict['weighted avg']['f1-score'] * 100, 2)}%\")\n",
        "\n",
        "print(\"\\n🔍 Per-Class Metrics:\")\n",
        "for label in ['0', '1']:\n",
        "    print(f\"Class {label} → Precision: {report_dict[label]['precision']:.2f}, Recall: {report_dict[label]['recall']:.2f}, F1-score: {report_dict[label]['f1-score']:.2f}\")\n"
      ],
      "metadata": {
        "colab": {
          "base_uri": "https://localhost:8080/"
        },
        "id": "Bpfc-ZdUD3Hk",
        "outputId": "584f248b-dbd9-4775-8c79-c683f708b69d"
      },
      "execution_count": null,
      "outputs": [
        {
          "output_type": "stream",
          "name": "stdout",
          "text": [
            "\n",
            "📊 Evaluation Metrics (Dev Set):\n",
            "✅ Accuracy     : 91.95%\n",
            "🔁 Precision    : 92.03%\n",
            "🎯 Recall       : 91.95%\n",
            "📏 F1-score     : 91.94%\n",
            "\n",
            "🔍 Per-Class Metrics:\n",
            "Class 0 → Precision: 0.90, Recall: 0.94, F1-score: 0.92\n",
            "Class 1 → Precision: 0.94, Recall: 0.90, F1-score: 0.92\n"
          ]
        }
      ]
    }
  ],
  "metadata": {
    "colab": {
      "provenance": []
    },
    "kernelspec": {
      "display_name": "Python 3",
      "name": "python3"
    },
    "language_info": {
      "name": "python"
    }
  },
  "nbformat": 4,
  "nbformat_minor": 0
}